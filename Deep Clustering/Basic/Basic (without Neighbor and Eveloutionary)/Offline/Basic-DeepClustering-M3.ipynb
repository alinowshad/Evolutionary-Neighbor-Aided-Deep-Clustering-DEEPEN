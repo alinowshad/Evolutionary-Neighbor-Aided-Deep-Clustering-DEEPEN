{
 "cells": [
  {
   "cell_type": "code",
   "execution_count": 1,
   "id": "761bb622",
   "metadata": {
    "execution": {
     "iopub.execute_input": "2024-09-24T07:03:41.352757Z",
     "iopub.status.busy": "2024-09-24T07:03:41.352299Z",
     "iopub.status.idle": "2024-09-24T07:03:54.706831Z",
     "shell.execute_reply": "2024-09-24T07:03:54.705397Z"
    },
    "papermill": {
     "duration": 13.369391,
     "end_time": "2024-09-24T07:03:54.709634",
     "exception": false,
     "start_time": "2024-09-24T07:03:41.340243",
     "status": "completed"
    },
    "tags": []
   },
   "outputs": [
    {
     "name": "stdout",
     "output_type": "stream",
     "text": [
      "Collecting tslearn\r\n",
      "  Downloading tslearn-0.6.3-py3-none-any.whl (374 kB)\r\n",
      "\u001b[2K     \u001b[90m━━━━━━━━━━━━━━━━━━━━━━━━━━━━━━━━━━━━━━━\u001b[0m \u001b[32m374.4/374.4 kB\u001b[0m \u001b[31m6.3 MB/s\u001b[0m eta \u001b[36m0:00:00\u001b[0m\r\n",
      "\u001b[?25hRequirement already satisfied: numpy in /opt/conda/lib/python3.10/site-packages (from tslearn) (1.23.5)\r\n",
      "Requirement already satisfied: scipy in /opt/conda/lib/python3.10/site-packages (from tslearn) (1.11.2)\r\n",
      "Requirement already satisfied: scikit-learn in /opt/conda/lib/python3.10/site-packages (from tslearn) (1.2.2)\r\n",
      "Requirement already satisfied: numba in /opt/conda/lib/python3.10/site-packages (from tslearn) (0.57.1)\r\n",
      "Requirement already satisfied: joblib in /opt/conda/lib/python3.10/site-packages (from tslearn) (1.3.2)\r\n",
      "Requirement already satisfied: llvmlite<0.41,>=0.40.0dev0 in /opt/conda/lib/python3.10/site-packages (from numba->tslearn) (0.40.1)\r\n",
      "Requirement already satisfied: threadpoolctl>=2.0.0 in /opt/conda/lib/python3.10/site-packages (from scikit-learn->tslearn) (3.1.0)\r\n",
      "Installing collected packages: tslearn\r\n",
      "Successfully installed tslearn-0.6.3\r\n"
     ]
    }
   ],
   "source": [
    "! pip install tslearn"
   ]
  },
  {
   "cell_type": "code",
   "execution_count": 2,
   "id": "fba39916",
   "metadata": {
    "execution": {
     "iopub.execute_input": "2024-09-24T07:03:54.733018Z",
     "iopub.status.busy": "2024-09-24T07:03:54.732625Z",
     "iopub.status.idle": "2024-09-24T07:04:06.452639Z",
     "shell.execute_reply": "2024-09-24T07:04:06.451243Z"
    },
    "papermill": {
     "duration": 11.734682,
     "end_time": "2024-09-24T07:04:06.455285",
     "exception": false,
     "start_time": "2024-09-24T07:03:54.720603",
     "status": "completed"
    },
    "tags": []
   },
   "outputs": [
    {
     "name": "stdout",
     "output_type": "stream",
     "text": [
      "Collecting scikit-learn-extra\r\n",
      "  Downloading scikit_learn_extra-0.3.0-cp310-cp310-manylinux_2_17_x86_64.manylinux2014_x86_64.whl (2.0 MB)\r\n",
      "\u001b[2K     \u001b[90m━━━━━━━━━━━━━━━━━━━━━━━━━━━━━━━━━━━━━━━━\u001b[0m \u001b[32m2.0/2.0 MB\u001b[0m \u001b[31m19.7 MB/s\u001b[0m eta \u001b[36m0:00:00\u001b[0m\r\n",
      "\u001b[?25hRequirement already satisfied: numpy>=1.13.3 in /opt/conda/lib/python3.10/site-packages (from scikit-learn-extra) (1.23.5)\r\n",
      "Requirement already satisfied: scipy>=0.19.1 in /opt/conda/lib/python3.10/site-packages (from scikit-learn-extra) (1.11.2)\r\n",
      "Requirement already satisfied: scikit-learn>=0.23.0 in /opt/conda/lib/python3.10/site-packages (from scikit-learn-extra) (1.2.2)\r\n",
      "Requirement already satisfied: joblib>=1.1.1 in /opt/conda/lib/python3.10/site-packages (from scikit-learn>=0.23.0->scikit-learn-extra) (1.3.2)\r\n",
      "Requirement already satisfied: threadpoolctl>=2.0.0 in /opt/conda/lib/python3.10/site-packages (from scikit-learn>=0.23.0->scikit-learn-extra) (3.1.0)\r\n",
      "Installing collected packages: scikit-learn-extra\r\n",
      "Successfully installed scikit-learn-extra-0.3.0\r\n"
     ]
    }
   ],
   "source": [
    "! pip install scikit-learn-extra"
   ]
  },
  {
   "cell_type": "code",
   "execution_count": 3,
   "id": "bd30cab9",
   "metadata": {
    "execution": {
     "iopub.execute_input": "2024-09-24T07:04:06.479074Z",
     "iopub.status.busy": "2024-09-24T07:04:06.478642Z",
     "iopub.status.idle": "2024-09-24T07:04:18.035410Z",
     "shell.execute_reply": "2024-09-24T07:04:18.034142Z"
    },
    "papermill": {
     "duration": 11.571843,
     "end_time": "2024-09-24T07:04:18.038113",
     "exception": false,
     "start_time": "2024-09-24T07:04:06.466270",
     "status": "completed"
    },
    "tags": []
   },
   "outputs": [
    {
     "name": "stdout",
     "output_type": "stream",
     "text": [
      "Collecting rstl\r\n",
      "  Downloading rstl-0.1.3-py3-none-any.whl (5.2 kB)\r\n",
      "Requirement already satisfied: numpy in /opt/conda/lib/python3.10/site-packages (from rstl) (1.23.5)\r\n",
      "Installing collected packages: rstl\r\n",
      "Successfully installed rstl-0.1.3\r\n"
     ]
    }
   ],
   "source": [
    "! pip install rstl"
   ]
  },
  {
   "cell_type": "code",
   "execution_count": 4,
   "id": "e71c3982",
   "metadata": {
    "execution": {
     "iopub.execute_input": "2024-09-24T07:04:18.062554Z",
     "iopub.status.busy": "2024-09-24T07:04:18.062152Z",
     "iopub.status.idle": "2024-09-24T07:04:29.970160Z",
     "shell.execute_reply": "2024-09-24T07:04:29.968782Z"
    },
    "papermill": {
     "duration": 11.923541,
     "end_time": "2024-09-24T07:04:29.972892",
     "exception": false,
     "start_time": "2024-09-24T07:04:18.049351",
     "status": "completed"
    },
    "tags": []
   },
   "outputs": [
    {
     "name": "stdout",
     "output_type": "stream",
     "text": [
      "Collecting keras-tcn\r\n",
      "  Downloading keras_tcn-3.5.0-py3-none-any.whl (13 kB)\r\n",
      "Requirement already satisfied: numpy in /opt/conda/lib/python3.10/site-packages (from keras-tcn) (1.23.5)\r\n",
      "Requirement already satisfied: tensorflow in /opt/conda/lib/python3.10/site-packages (from keras-tcn) (2.12.0)\r\n",
      "Requirement already satisfied: tensorflow-addons in /opt/conda/lib/python3.10/site-packages (from keras-tcn) (0.21.0)\r\n",
      "Requirement already satisfied: absl-py>=1.0.0 in /opt/conda/lib/python3.10/site-packages (from tensorflow->keras-tcn) (1.4.0)\r\n",
      "Requirement already satisfied: astunparse>=1.6.0 in /opt/conda/lib/python3.10/site-packages (from tensorflow->keras-tcn) (1.6.3)\r\n",
      "Requirement already satisfied: flatbuffers>=2.0 in /opt/conda/lib/python3.10/site-packages (from tensorflow->keras-tcn) (23.5.26)\r\n",
      "Requirement already satisfied: gast<=0.4.0,>=0.2.1 in /opt/conda/lib/python3.10/site-packages (from tensorflow->keras-tcn) (0.4.0)\r\n",
      "Requirement already satisfied: google-pasta>=0.1.1 in /opt/conda/lib/python3.10/site-packages (from tensorflow->keras-tcn) (0.2.0)\r\n",
      "Requirement already satisfied: grpcio<2.0,>=1.24.3 in /opt/conda/lib/python3.10/site-packages (from tensorflow->keras-tcn) (1.51.3)\r\n",
      "Requirement already satisfied: h5py>=2.9.0 in /opt/conda/lib/python3.10/site-packages (from tensorflow->keras-tcn) (3.9.0)\r\n",
      "Requirement already satisfied: jax>=0.3.15 in /opt/conda/lib/python3.10/site-packages (from tensorflow->keras-tcn) (0.4.13)\r\n",
      "Requirement already satisfied: keras<2.13,>=2.12.0 in /opt/conda/lib/python3.10/site-packages (from tensorflow->keras-tcn) (2.12.0)\r\n",
      "Requirement already satisfied: libclang>=13.0.0 in /opt/conda/lib/python3.10/site-packages (from tensorflow->keras-tcn) (16.0.0)\r\n",
      "Requirement already satisfied: opt-einsum>=2.3.2 in /opt/conda/lib/python3.10/site-packages (from tensorflow->keras-tcn) (3.3.0)\r\n",
      "Requirement already satisfied: packaging in /opt/conda/lib/python3.10/site-packages (from tensorflow->keras-tcn) (21.3)\r\n",
      "Requirement already satisfied: protobuf!=4.21.0,!=4.21.1,!=4.21.2,!=4.21.3,!=4.21.4,!=4.21.5,<5.0.0dev,>=3.20.3 in /opt/conda/lib/python3.10/site-packages (from tensorflow->keras-tcn) (3.20.3)\r\n",
      "Requirement already satisfied: setuptools in /opt/conda/lib/python3.10/site-packages (from tensorflow->keras-tcn) (68.0.0)\r\n",
      "Requirement already satisfied: six>=1.12.0 in /opt/conda/lib/python3.10/site-packages (from tensorflow->keras-tcn) (1.16.0)\r\n",
      "Requirement already satisfied: tensorboard<2.13,>=2.12 in /opt/conda/lib/python3.10/site-packages (from tensorflow->keras-tcn) (2.12.3)\r\n",
      "Requirement already satisfied: tensorflow-estimator<2.13,>=2.12.0 in /opt/conda/lib/python3.10/site-packages (from tensorflow->keras-tcn) (2.12.0)\r\n",
      "Requirement already satisfied: termcolor>=1.1.0 in /opt/conda/lib/python3.10/site-packages (from tensorflow->keras-tcn) (2.3.0)\r\n",
      "Requirement already satisfied: typing-extensions>=3.6.6 in /opt/conda/lib/python3.10/site-packages (from tensorflow->keras-tcn) (4.6.3)\r\n",
      "Requirement already satisfied: wrapt<1.15,>=1.11.0 in /opt/conda/lib/python3.10/site-packages (from tensorflow->keras-tcn) (1.14.1)\r\n",
      "Requirement already satisfied: tensorflow-io-gcs-filesystem>=0.23.1 in /opt/conda/lib/python3.10/site-packages (from tensorflow->keras-tcn) (0.32.0)\r\n",
      "Requirement already satisfied: typeguard<3.0.0,>=2.7 in /opt/conda/lib/python3.10/site-packages (from tensorflow-addons->keras-tcn) (2.13.3)\r\n",
      "Requirement already satisfied: wheel<1.0,>=0.23.0 in /opt/conda/lib/python3.10/site-packages (from astunparse>=1.6.0->tensorflow->keras-tcn) (0.40.0)\r\n",
      "Requirement already satisfied: ml-dtypes>=0.1.0 in /opt/conda/lib/python3.10/site-packages (from jax>=0.3.15->tensorflow->keras-tcn) (0.2.0)\r\n",
      "Requirement already satisfied: scipy>=1.7 in /opt/conda/lib/python3.10/site-packages (from jax>=0.3.15->tensorflow->keras-tcn) (1.11.2)\r\n",
      "Requirement already satisfied: google-auth<3,>=1.6.3 in /opt/conda/lib/python3.10/site-packages (from tensorboard<2.13,>=2.12->tensorflow->keras-tcn) (2.20.0)\r\n",
      "Requirement already satisfied: google-auth-oauthlib<1.1,>=0.5 in /opt/conda/lib/python3.10/site-packages (from tensorboard<2.13,>=2.12->tensorflow->keras-tcn) (1.0.0)\r\n",
      "Requirement already satisfied: markdown>=2.6.8 in /opt/conda/lib/python3.10/site-packages (from tensorboard<2.13,>=2.12->tensorflow->keras-tcn) (3.4.3)\r\n",
      "Requirement already satisfied: requests<3,>=2.21.0 in /opt/conda/lib/python3.10/site-packages (from tensorboard<2.13,>=2.12->tensorflow->keras-tcn) (2.31.0)\r\n",
      "Requirement already satisfied: tensorboard-data-server<0.8.0,>=0.7.0 in /opt/conda/lib/python3.10/site-packages (from tensorboard<2.13,>=2.12->tensorflow->keras-tcn) (0.7.1)\r\n",
      "Requirement already satisfied: werkzeug>=1.0.1 in /opt/conda/lib/python3.10/site-packages (from tensorboard<2.13,>=2.12->tensorflow->keras-tcn) (2.3.7)\r\n",
      "Requirement already satisfied: pyparsing!=3.0.5,>=2.0.2 in /opt/conda/lib/python3.10/site-packages (from packaging->tensorflow->keras-tcn) (3.0.9)\r\n",
      "Requirement already satisfied: cachetools<6.0,>=2.0.0 in /opt/conda/lib/python3.10/site-packages (from google-auth<3,>=1.6.3->tensorboard<2.13,>=2.12->tensorflow->keras-tcn) (4.2.4)\r\n",
      "Requirement already satisfied: pyasn1-modules>=0.2.1 in /opt/conda/lib/python3.10/site-packages (from google-auth<3,>=1.6.3->tensorboard<2.13,>=2.12->tensorflow->keras-tcn) (0.2.7)\r\n",
      "Requirement already satisfied: rsa<5,>=3.1.4 in /opt/conda/lib/python3.10/site-packages (from google-auth<3,>=1.6.3->tensorboard<2.13,>=2.12->tensorflow->keras-tcn) (4.9)\r\n",
      "Requirement already satisfied: urllib3<2.0 in /opt/conda/lib/python3.10/site-packages (from google-auth<3,>=1.6.3->tensorboard<2.13,>=2.12->tensorflow->keras-tcn) (1.26.15)\r\n",
      "Requirement already satisfied: requests-oauthlib>=0.7.0 in /opt/conda/lib/python3.10/site-packages (from google-auth-oauthlib<1.1,>=0.5->tensorboard<2.13,>=2.12->tensorflow->keras-tcn) (1.3.1)\r\n",
      "Requirement already satisfied: charset-normalizer<4,>=2 in /opt/conda/lib/python3.10/site-packages (from requests<3,>=2.21.0->tensorboard<2.13,>=2.12->tensorflow->keras-tcn) (3.1.0)\r\n",
      "Requirement already satisfied: idna<4,>=2.5 in /opt/conda/lib/python3.10/site-packages (from requests<3,>=2.21.0->tensorboard<2.13,>=2.12->tensorflow->keras-tcn) (3.4)\r\n",
      "Requirement already satisfied: certifi>=2017.4.17 in /opt/conda/lib/python3.10/site-packages (from requests<3,>=2.21.0->tensorboard<2.13,>=2.12->tensorflow->keras-tcn) (2023.7.22)\r\n",
      "Requirement already satisfied: MarkupSafe>=2.1.1 in /opt/conda/lib/python3.10/site-packages (from werkzeug>=1.0.1->tensorboard<2.13,>=2.12->tensorflow->keras-tcn) (2.1.3)\r\n",
      "Requirement already satisfied: pyasn1<0.5.0,>=0.4.6 in /opt/conda/lib/python3.10/site-packages (from pyasn1-modules>=0.2.1->google-auth<3,>=1.6.3->tensorboard<2.13,>=2.12->tensorflow->keras-tcn) (0.4.8)\r\n",
      "Requirement already satisfied: oauthlib>=3.0.0 in /opt/conda/lib/python3.10/site-packages (from requests-oauthlib>=0.7.0->google-auth-oauthlib<1.1,>=0.5->tensorboard<2.13,>=2.12->tensorflow->keras-tcn) (3.2.2)\r\n",
      "Installing collected packages: keras-tcn\r\n",
      "Successfully installed keras-tcn-3.5.0\r\n"
     ]
    }
   ],
   "source": [
    "! pip install keras-tcn"
   ]
  },
  {
   "cell_type": "code",
   "execution_count": 5,
   "id": "cd8c2271",
   "metadata": {
    "execution": {
     "iopub.execute_input": "2024-09-24T07:04:29.999328Z",
     "iopub.status.busy": "2024-09-24T07:04:29.998492Z",
     "iopub.status.idle": "2024-09-24T07:04:45.478751Z",
     "shell.execute_reply": "2024-09-24T07:04:45.477452Z"
    },
    "papermill": {
     "duration": 15.496731,
     "end_time": "2024-09-24T07:04:45.481596",
     "exception": false,
     "start_time": "2024-09-24T07:04:29.984865",
     "status": "completed"
    },
    "tags": []
   },
   "outputs": [],
   "source": [
    "# Utilities\n",
    "import os\n",
    "import csv\n",
    "import argparse\n",
    "from time import time\n",
    "# Keras\n",
    "import tensorflow as tf\n",
    "\n",
    "from keras.models import Model\n",
    "from keras.layers import Dense, Reshape, UpSampling2D, Conv2DTranspose, GlobalAveragePooling1D, Softmax\n",
    "from keras.losses import kullback_leibler_divergence\n",
    "import keras.backend as K\n",
    "# scikit-learn\n",
    "from sklearn.cluster import AgglomerativeClustering, KMeans\n",
    "# Dataset helper function\n",
    "# DTC components\n",
    "from keras.models import Model\n",
    "from keras.layers import Input, Conv1D, LeakyReLU, MaxPool1D, LSTM, Bidirectional, TimeDistributed, Dense, Reshape\n",
    "from keras.layers import UpSampling2D, Conv2DTranspose\n",
    "import numpy as np\n",
    "from sklearn import metrics\n",
    "from scipy.optimize import linear_sum_assignment\n",
    "from sklearn.preprocessing import label_binarize\n",
    "from tensorflow.keras.layers import Layer, InputSpec\n",
    "import keras.backend as K\n",
    "import numpy as np\n",
    "from statsmodels.tsa import stattools\n",
    "from tslearn.preprocessing import TimeSeriesScalerMeanVariance\n",
    "import tensorflow.keras as keras\n",
    "from tensorflow.keras.layers import Input, LSTM, Dense, RepeatVector, Attention\n",
    "from tensorflow.keras import layers\n",
    "import pandas as pd\n",
    "from sklearn.multioutput import MultiOutputRegressor"
   ]
  },
  {
   "cell_type": "code",
   "execution_count": 6,
   "id": "46b7556f",
   "metadata": {
    "execution": {
     "iopub.execute_input": "2024-09-24T07:04:45.508427Z",
     "iopub.status.busy": "2024-09-24T07:04:45.507715Z",
     "iopub.status.idle": "2024-09-24T07:04:45.697556Z",
     "shell.execute_reply": "2024-09-24T07:04:45.696521Z"
    },
    "papermill": {
     "duration": 0.205846,
     "end_time": "2024-09-24T07:04:45.699856",
     "exception": false,
     "start_time": "2024-09-24T07:04:45.494010",
     "status": "completed"
    },
    "tags": []
   },
   "outputs": [
    {
     "name": "stderr",
     "output_type": "stream",
     "text": [
      "/opt/conda/lib/python3.10/site-packages/tensorflow_addons/utils/tfa_eol_msg.py:23: UserWarning: \n",
      "\n",
      "TensorFlow Addons (TFA) has ended development and introduction of new features.\n",
      "TFA has entered a minimal maintenance and release mode until a planned end of life in May 2024.\n",
      "Please modify downstream libraries to take dependencies from other repositories in our TensorFlow community (e.g. Keras, Keras-CV, and Keras-NLP). \n",
      "\n",
      "For more information see: https://github.com/tensorflow/addons/issues/2807 \n",
      "\n",
      "  warnings.warn(\n"
     ]
    }
   ],
   "source": [
    "import os\n",
    "os.environ['TF_CPP_MIN_LOG_LEVEL'] = '3'\n",
    "import tensorflow as tf\n",
    "tf.config.run_functions_eagerly(True)\n",
    "tf.data.experimental.enable_debug_mode()\n",
    "import numpy as np\n",
    "import pandas as pd\n",
    "from tensorflow import keras\n",
    "from tensorflow.keras import layers\n",
    "from sklearn.metrics import mean_absolute_error\n",
    "from keras.models import Sequential\n",
    "from keras.layers import LSTM\n",
    "from keras.layers import Dense\n",
    "from keras.layers import RepeatVector\n",
    "from keras.layers import TimeDistributed\n",
    "import tensorflow_addons as tfa\n",
    "from math import pi, ceil\n",
    "\n",
    "import numpy as np\n",
    "import tensorflow as tf\n",
    "from tensorflow.keras.layers import Input, Conv1D, MaxPooling1D, Flatten\n",
    "from tensorflow.keras.models import Model\n",
    "from tslearn.preprocessing import TimeSeriesScalerMeanVariance"
   ]
  },
  {
   "cell_type": "code",
   "execution_count": 7,
   "id": "21a0ee9c",
   "metadata": {
    "execution": {
     "iopub.execute_input": "2024-09-24T07:04:45.726092Z",
     "iopub.status.busy": "2024-09-24T07:04:45.725682Z",
     "iopub.status.idle": "2024-09-24T07:04:45.748038Z",
     "shell.execute_reply": "2024-09-24T07:04:45.746769Z"
    },
    "papermill": {
     "duration": 0.038598,
     "end_time": "2024-09-24T07:04:45.750687",
     "exception": false,
     "start_time": "2024-09-24T07:04:45.712089",
     "status": "completed"
    },
    "tags": []
   },
   "outputs": [
    {
     "name": "stdout",
     "output_type": "stream",
     "text": [
      "2.12.0\n"
     ]
    }
   ],
   "source": [
    "import numpy as np\n",
    "import pandas as pd\n",
    "import matplotlib.pyplot as plt\n",
    "\n",
    "from sklearn.cluster import KMeans\n",
    "from sklearn_extra.cluster import KMedoids\n",
    "from sklearn.cluster import SpectralClustering\n",
    "# %tensorflow_version 1.x\n",
    "import tensorflow as tf\n",
    "import keras\n",
    "import keras.backend as K\n",
    "from keras import layers\n",
    "from keras.models import Sequential,Model\n",
    "from keras.callbacks import EarlyStopping\n",
    "from keras.callbacks import ModelCheckpoint\n",
    "from keras.models import load_model\n",
    "import time\n",
    "print(tf.__version__)\n",
    "from keras.layers import MultiHeadAttention\n",
    "from keras.layers import Dense\n",
    "import gc\n",
    "from keras.layers import concatenate\n",
    "import csv\n",
    "import math\n",
    "import warnings\n",
    "import os\n",
    "\n",
    "# import xgboost as xgb\n",
    "warnings.filterwarnings('ignore')\n",
    "# import GPy, GPyOpt\n",
    "tfkl = tf.keras.layers\n",
    "tfk = tf.keras\n",
    "from tcn import TCN\n",
    "\n",
    "from rstl import STL\n",
    "from texttable import Texttable"
   ]
  },
  {
   "cell_type": "code",
   "execution_count": 8,
   "id": "d3150c95",
   "metadata": {
    "execution": {
     "iopub.execute_input": "2024-09-24T07:04:45.777535Z",
     "iopub.status.busy": "2024-09-24T07:04:45.776816Z",
     "iopub.status.idle": "2024-09-24T07:04:45.789165Z",
     "shell.execute_reply": "2024-09-24T07:04:45.787952Z"
    },
    "papermill": {
     "duration": 0.028303,
     "end_time": "2024-09-24T07:04:45.791746",
     "exception": false,
     "start_time": "2024-09-24T07:04:45.763443",
     "status": "completed"
    },
    "tags": []
   },
   "outputs": [],
   "source": [
    "def autoencoder(latent_dim=16, series_len=None):\n",
    "\n",
    "    # Input\n",
    "    x = Input((None, series_len),name='input')\n",
    "    #masked_seq = layers.Masking(mask_value=0.0)(encoder_inputs)\n",
    "    # Encoder\n",
    "    encoded = LSTM(256, return_sequences=True, name=\"encoded_lstm1\")(x)\n",
    "    encoded = LSTM(128, return_sequences=True, name=\"encoded_lstm2\")(encoded)\n",
    "    attention = Attention(name=\"encoded_atten\")([encoded, encoded, encoded])  # Apply self-attention to the encoder outputs\n",
    "    merged = layers.Concatenate(axis=-1)([encoded, attention])        \n",
    "    encoded = LSTM(64, name=\"encoded_lstm3\")(merged)\n",
    "    encoded = Dense(latent_dim, name=\"encoded_dense\")(encoded)\n",
    "\n",
    "    # Decoder\n",
    "    decoded = RepeatVector(1)(encoded)\n",
    "    decoded = LSTM(64, return_sequences=True, name=\"decoded_lstm1\")(decoded)\n",
    "    decoded = LSTM(128, return_sequences=True, name=\"decoded_lstm2\")(decoded)\n",
    "    decoded = LSTM(256, return_sequences=True, name=\"decoded_lstm3\")(decoded)\n",
    "    attention = Attention(name=\"decoded_atten\")([decoded, decoded, decoded])  # Apply self-attention to the decoder outputs\n",
    "    decoded = layers.Concatenate(axis=-1, name=\"decoded_concat\")([decoded, attention])\n",
    "    decoder_outputs = TimeDistributed(Dense(series_len), name=\"decoded_timeD\")(decoded)\n",
    "    \n",
    "    # AE model\n",
    "    autoencoder = Model(inputs=x, outputs=decoder_outputs, name='AE')\n",
    "\n",
    "    # Encoder model\n",
    "    encoder = Model(inputs=x, outputs=encoded, name='encoder')\n",
    "\n",
    "    # Create input for decoder model\n",
    "    encoded_input =Input(shape=(latent_dim,))\n",
    "    # Internal layers in decoder\n",
    "    decoded = RepeatVector(1)(encoded_input)\n",
    "    decoded = autoencoder.get_layer('decoded_lstm1')(decoded)\n",
    "    decoded = autoencoder.get_layer('decoded_lstm2')(decoded)\n",
    "    decoded = autoencoder.get_layer('decoded_lstm3')(decoded)\n",
    "    attention = autoencoder.get_layer('decoded_atten')([decoded, decoded, decoded])\n",
    "    decoded = autoencoder.get_layer('decoded_concat')([decoded, attention])\n",
    "    decoder_output = autoencoder.get_layer('decoded_timeD')(decoded)\n",
    "    # Decoder model\n",
    "    decoder = Model(inputs=encoded_input, outputs=decoder_output, name='decoder')\n",
    "\n",
    "    return autoencoder, encoder, decoder"
   ]
  },
  {
   "cell_type": "code",
   "execution_count": 9,
   "id": "914391d1",
   "metadata": {
    "execution": {
     "iopub.execute_input": "2024-09-24T07:04:45.819332Z",
     "iopub.status.busy": "2024-09-24T07:04:45.818160Z",
     "iopub.status.idle": "2024-09-24T07:04:45.831477Z",
     "shell.execute_reply": "2024-09-24T07:04:45.830295Z"
    },
    "papermill": {
     "duration": 0.029397,
     "end_time": "2024-09-24T07:04:45.833880",
     "exception": false,
     "start_time": "2024-09-24T07:04:45.804483",
     "status": "completed"
    },
    "tags": []
   },
   "outputs": [],
   "source": [
    "def eucl(x, y):\n",
    "    \"\"\"\n",
    "    Euclidean distance between two multivariate time series given as arrays of shape (timesteps, dim)\n",
    "    \"\"\"\n",
    "    d = np.sqrt(np.sum(np.square(x - y), axis=0))\n",
    "    return np.sum(d)\n",
    "\n",
    "\n",
    "def cid(x, y):\n",
    "    \"\"\"\n",
    "    Complexity-Invariant Distance (CID) between two multivariate time series given as arrays of shape (timesteps, dim)\n",
    "    Reference: Batista, Wang & Keogh (2011). A Complexity-Invariant Distance Measure for Time Series. https://doi.org/10.1137/1.9781611972818.60\n",
    "    \"\"\"\n",
    "    assert(len(x.shape) == 2 and x.shape == y.shape)  # time series must have same length and dimensionality\n",
    "    ce_x = np.sqrt(np.sum(np.square(np.diff(x, axis=0)), axis=0) + 1e-9)\n",
    "    ce_y = np.sqrt(np.sum(np.square(np.diff(y, axis=0)), axis=0) + 1e-9)\n",
    "    d = np.sqrt(np.sum(np.square(x - y), axis=0)) * np.divide(np.maximum(ce_x, ce_y), np.minimum(ce_x, ce_y))\n",
    "    return np.sum(d)\n",
    "\n",
    "\n",
    "def cor(x, y):\n",
    "    \"\"\"\n",
    "    Correlation-based distance (COR) between two multivariate time series given as arrays of shape (timesteps, dim)\n",
    "    \"\"\"\n",
    "    scaler = TimeSeriesScalerMeanVariance()\n",
    "    x_norm = scaler.fit_transform(x)\n",
    "    y_norm = scaler.fit_transform(y)\n",
    "    pcc = np.mean(x_norm * y_norm)  # Pearson correlation coefficients\n",
    "    d = np.sqrt(2.0 * (1.0 - pcc + 1e-9))  # correlation-based similarities\n",
    "    return np.sum(d)\n",
    "\n",
    "\n",
    "def acf(x, y):\n",
    "    \"\"\"\n",
    "    Autocorrelation-based distance (ACF) between two multivariate time series given as arrays of shape (timesteps, dim)\n",
    "    Computes a linearly weighted euclidean distance between the autocorrelation coefficients of the input time series.\n",
    "    Reference: Galeano & Pena (2000). Multivariate Analysis in Vector Time Series.\n",
    "    \"\"\"\n",
    "    assert (len(x.shape) == 2 and x.shape == y.shape)  # time series must have same length and dimensionality\n",
    "    x_acf = np.apply_along_axis(lambda z: stattools.acf(z, nlags=z.shape[0]), 0, x)\n",
    "    y_acf = np.apply_along_axis(lambda z: stattools.acf(z, nlags=z.shape[0]), 0, y)\n",
    "    weights = np.linspace(1.0, 0.0, x.shape[0])\n",
    "    d = np.sqrt(np.sum(np.expand_dims(weights, axis=1) * np.square(x_acf - y_acf), axis=0))\n",
    "    return np.sum(d)"
   ]
  },
  {
   "cell_type": "code",
   "execution_count": 10,
   "id": "0f75e6ac",
   "metadata": {
    "execution": {
     "iopub.execute_input": "2024-09-24T07:04:45.860806Z",
     "iopub.status.busy": "2024-09-24T07:04:45.860402Z",
     "iopub.status.idle": "2024-09-24T07:04:45.872344Z",
     "shell.execute_reply": "2024-09-24T07:04:45.871137Z"
    },
    "papermill": {
     "duration": 0.028166,
     "end_time": "2024-09-24T07:04:45.874776",
     "exception": false,
     "start_time": "2024-09-24T07:04:45.846610",
     "status": "completed"
    },
    "tags": []
   },
   "outputs": [],
   "source": [
    "def cluster_acc(y_true, y_pred):\n",
    "    \"\"\"\n",
    "    Calculate unsupervised clustering accuracy. Requires scikit-learn installed\n",
    "\n",
    "    # Arguments\n",
    "        y_true: true labels, numpy.array with shape `(n_samples,)`\n",
    "        y_pred: predicted labels, numpy.array with shape `(n_samples,)`\n",
    "\n",
    "    # Return\n",
    "        accuracy, in [0,1]\n",
    "    \"\"\"\n",
    "    y_true = y_true.astype(np.int64)\n",
    "    assert y_pred.size == y_true.size\n",
    "    D = max(y_pred.max(), y_true.max()) + 1\n",
    "    w = np.zeros((D, D), dtype=np.int64)\n",
    "    for i in range(y_pred.size):\n",
    "        w[y_pred[i], y_true[i]] += 1\n",
    "    row_ind, col_ind = linear_sum_assignment(w.max() - w)\n",
    "    return w[row_ind, col_ind].sum() * 1.0 / y_pred.size\n",
    "\n",
    "\n",
    "def cluster_purity(y_true, y_pred):\n",
    "    \"\"\"\n",
    "    Calculate clustering purity\n",
    "\n",
    "    # Arguments\n",
    "        y_true: true labels, numpy.array with shape `(n_samples,)`\n",
    "        y_pred: predicted labels, numpy.array with shape `(n_samples,)`\n",
    "\n",
    "    # Return\n",
    "        purity, in [0,1]\n",
    "    \"\"\"\n",
    "    y_true = y_true.astype(np.int64)\n",
    "    assert y_pred.size == y_true.size\n",
    "    D = max(y_pred.max(), y_true.max()) + 1\n",
    "    w = np.zeros((D, D), dtype=np.int64)\n",
    "    for i in range(y_pred.size):\n",
    "        w[y_pred[i], y_true[i]] += 1\n",
    "    label_mapping = w.argmax(axis=1)\n",
    "    y_pred_voted = y_pred.copy()\n",
    "    for i in range(y_pred.size):\n",
    "        y_pred_voted[i] = label_mapping[y_pred[i]]\n",
    "    return metrics.accuracy_score(y_pred_voted, y_true)\n",
    "\n",
    "\n",
    "def roc_auc(y_true, q_pred, n_classes):\n",
    "    \"\"\"\n",
    "    Calculate area under ROC curve (ROC AUC)\n",
    "    WARNING: DO NOT USE, MAY CONTAIN ERRORS\n",
    "    TODO: CHECK IT!\n",
    "\n",
    "    # Arguments\n",
    "        y_true: true labels, numpy.array with shape `(n_samples,)`\n",
    "        q_pred: predicted probabilities, numpy.array with shape `(n_samples,)`\n",
    "\n",
    "    # Return\n",
    "        ROC AUC score, in [0,1]\n",
    "    \"\"\"\n",
    "    if n_classes == 2:  # binary ROC AUC\n",
    "        auc = max(metrics.roc_auc_score(y_true, q_pred[:, 1]), metrics.roc_auc_score(y_true, q_pred[:, 0]))\n",
    "    else:  # micro-averaged ROC AUC (multiclass)\n",
    "        fpr, tpr, _ = metrics.roc_curve(label_binarize(y_true, classes=np.unique(y_true)).ravel(), q_pred.ravel())\n",
    "        auc = metrics.auc(fpr, tpr)\n",
    "    return auc"
   ]
  },
  {
   "cell_type": "code",
   "execution_count": 11,
   "id": "e7e4084d",
   "metadata": {
    "execution": {
     "iopub.execute_input": "2024-09-24T07:04:45.900909Z",
     "iopub.status.busy": "2024-09-24T07:04:45.900500Z",
     "iopub.status.idle": "2024-09-24T07:04:45.905377Z",
     "shell.execute_reply": "2024-09-24T07:04:45.904226Z"
    },
    "papermill": {
     "duration": 0.020799,
     "end_time": "2024-09-24T07:04:45.907813",
     "exception": false,
     "start_time": "2024-09-24T07:04:45.887014",
     "status": "completed"
    },
    "tags": []
   },
   "outputs": [],
   "source": [
    "# self.latent_shape = 16 dim  batch epoch "
   ]
  },
  {
   "cell_type": "code",
   "execution_count": 12,
   "id": "34ab26c5",
   "metadata": {
    "execution": {
     "iopub.execute_input": "2024-09-24T07:04:45.934002Z",
     "iopub.status.busy": "2024-09-24T07:04:45.933619Z",
     "iopub.status.idle": "2024-09-24T07:04:45.953942Z",
     "shell.execute_reply": "2024-09-24T07:04:45.952909Z"
    },
    "papermill": {
     "duration": 0.036358,
     "end_time": "2024-09-24T07:04:45.956379",
     "exception": false,
     "start_time": "2024-09-24T07:04:45.920021",
     "status": "completed"
    },
    "tags": []
   },
   "outputs": [],
   "source": [
    "class TSClusteringLayer(Layer):\n",
    "    \"\"\"\n",
    "    Clustering layer converts input sample (feature) to soft label, i.e. a vector that represents the probability of the\n",
    "    sample belonging to each cluster. The probability is calculated with student's t-distribution.\n",
    "\n",
    "    # Arguments\n",
    "        n_clusters: number of clusters.\n",
    "        weights: list of Numpy array with shape `(n_clusters, timesteps, n_features)` witch represents the initial cluster centers.\n",
    "        alpha: parameter in Student's t-distribution. Default to 1.0.\n",
    "        dist_metric: distance metric between sequences used in similarity kernel ('eucl', 'cir', 'cor' or 'acf').\n",
    "    # Input shape\n",
    "        3D tensor with shape: `(n_samples, timesteps, n_features)`.\n",
    "    # Output shape\n",
    "        2D tensor with shape: `(n_samples, n_clusters)`.\n",
    "    \"\"\"\n",
    "\n",
    "    def __init__(self, n_clusters, weights=None, alpha=1.0, dist_metric='eucl', **kwargs):\n",
    "        if 'input_shape' not in kwargs and 'input_dim' in kwargs:\n",
    "            kwargs['input_shape'] = (kwargs.pop('input_dim'),)\n",
    "        super(TSClusteringLayer, self).__init__(**kwargs)\n",
    "        self.n_clusters = n_clusters\n",
    "        self.alpha = alpha\n",
    "        self.dist_metric = dist_metric\n",
    "        self.initial_weights = weights\n",
    "        self.clusters = None\n",
    "        self.built = False\n",
    "\n",
    "    def build(self, input_shape):\n",
    "        self.input_spec = InputSpec(dtype=K.floatx(), shape=(None, input_shape[1]))\n",
    "        self.clusters = self.add_weight(shape=(self.n_clusters, input_shape[1]), initializer='glorot_uniform', name='cluster_centers')\n",
    "        if self.initial_weights is not None:\n",
    "            self.set_weights(self.initial_weights)\n",
    "            del self.initial_weights\n",
    "        self.built = True\n",
    "\n",
    "    '''def call(self, inputs, **kwargs):\n",
    "        \"\"\"\n",
    "        Student t-distribution kernel, probability of assigning encoded sequence i to cluster k.\n",
    "            q_{ik} = (1 + dist(z_i, m_k)^2)^{-1} / normalization.\n",
    "\n",
    "        Arguments:\n",
    "            inputs: encoded input sequences, shape=(n_samples, timesteps, n_features)\n",
    "        Return:\n",
    "            q: soft labels for each sample. shape=(n_samples, n_clusters)\n",
    "        \"\"\"\n",
    "        if self.dist_metric == 'eucl':\n",
    "            distance = K.sum(K.sqrt(K.sum(K.square(K.expand_dims(inputs, axis=1) - self.clusters), axis=1)), axis=-1)\n",
    "        elif self.dist_metric == 'cid':\n",
    "            ce_x = K.sqrt(K.sum(K.square(inputs[:, 1:, :] - inputs[:, :-1, :]), axis=1))  # shape (n_samples, n_features)\n",
    "            ce_w = K.sqrt(K.sum(K.square(self.clusters[:, 1:, :] - self.clusters[:, :-1, :]), axis=1))  # shape (n_clusters, n_features)\n",
    "            ce = K.maximum(K.expand_dims(ce_x, axis=1), ce_w) / K.minimum(K.expand_dims(ce_x, axis=1), ce_w)  # shape (n_samples, n_clusters, n_features)\n",
    "            ed = K.sqrt(K.sum(K.square(K.expand_dims(inputs, axis=1) - self.clusters), axis=2))  # shape (n_samples, n_clusters, n_features)\n",
    "            distance = K.sum(ed * ce, axis=-1)  # shape (n_samples, n_clusters)\n",
    "        elif self.dist_metric == 'cor':\n",
    "            inputs_norm = (inputs - K.expand_dims(K.mean(inputs, axis=1), axis=1)) / K.expand_dims(K.std(inputs, axis=1), axis=1)  # shape (n_samples, timesteps, n_features)\n",
    "            clusters_norm = (self.clusters - K.expand_dims(K.mean(self.clusters, axis=1), axis=1)) / K.expand_dims(K.std(self.clusters, axis=1), axis=1)  # shape (n_clusters, timesteps, n_features)\n",
    "            pcc = K.mean(K.expand_dims(inputs_norm, axis=1) * clusters_norm, axis=2)  # Pearson correlation coefficients\n",
    "            distance = K.sum(K.sqrt(2.0 * (1.0 - pcc)), axis=-1)  # correlation-based similarities, shape (n_samples, n_clusters)\n",
    "        elif self.dist_metric == 'acf':\n",
    "            raise NotImplementedError\n",
    "        else:\n",
    "            raise ValueError('Available distances are eucl, cid, cor and acf!')\n",
    "        q = 1.0 / (1.0 + K.square(distance) / self.alpha)\n",
    "        q **= (self.alpha + 1.0) / 2.0\n",
    "        q = K.transpose(K.transpose(q) / K.sum(q, axis=1))\n",
    "        return q'''\n",
    "    \n",
    "    def call(self, inputs, **kwargs):\n",
    "        \"\"\"\n",
    "        Student t-distribution kernel, probability of assigning encoded sequence i to cluster k.\n",
    "            q_{ik} = (1 + dist(z_i, m_k)^2)^{-1} / normalization.\n",
    "\n",
    "        Arguments:\n",
    "            inputs: encoded input sequences, shape=(n_samples, n_features)\n",
    "        Return:\n",
    "            q: soft labels for each sample. shape=(n_samples, n_clusters)\n",
    "        \"\"\"\n",
    "        inputs_expanded = K.expand_dims(inputs, axis=1)  # shape=(n_samples, 1, n_features)\n",
    "        clusters_expanded = K.expand_dims(self.clusters, axis=0)  # shape=(1, n_clusters, n_features)\n",
    "\n",
    "        if self.dist_metric == 'eucl':\n",
    "            distance = K.sqrt(K.sum(K.square(inputs_expanded - clusters_expanded), axis=-1))\n",
    "        elif self.dist_metric == 'cid':\n",
    "            ce_x = K.sqrt(K.sum(K.square(inputs_expanded - K.expand_dims(inputs[:, :-1], axis=2)), axis=-1))  # shape (n_samples, timesteps)\n",
    "            ce_w = K.sqrt(K.sum(K.square(clusters_expanded - K.expand_dims(self.clusters[:, :-1], axis=1)), axis=-1))  # shape (n_clusters, timesteps)\n",
    "            ce = K.maximum(K.expand_dims(ce_x, axis=1), ce_w) / K.minimum(K.expand_dims(ce_x, axis=1), ce_w)  # shape (n_samples, n_clusters, timesteps)\n",
    "            ed = K.sqrt(K.sum(K.square(inputs_expanded - clusters_expanded), axis=-1))  # shape (n_samples, n_clusters)\n",
    "            distance = K.sum(ed * ce, axis=-1)  # shape (n_samples, n_clusters)\n",
    "        elif self.dist_metric == 'cor':\n",
    "            inputs_norm = (inputs - K.mean(inputs, axis=1, keepdims=True)) / K.std(inputs, axis=1, keepdims=True)  # shape (n_samples, n_features)\n",
    "            clusters_norm = (self.clusters - K.mean(self.clusters, axis=1, keepdims=True)) / K.std(self.clusters, axis=1, keepdims=True)  # shape (n_clusters, n_features)\n",
    "            pcc = K.mean(K.expand_dims(inputs_norm, axis=1) * K.expand_dims(clusters_norm, axis=0), axis=-1)  # Pearson correlation coefficients\n",
    "            distance = K.sqrt(2.0 * (1.0 - pcc))  # correlation-based similarities, shape (n_samples, n_clusters)\n",
    "        elif self.dist_metric == 'acf':\n",
    "            raise NotImplementedError\n",
    "        else:\n",
    "            raise ValueError('Available distances are eucl, cid, cor and acf!')\n",
    "\n",
    "        q = 1.0 / (1.0 + K.square(distance) / self.alpha)\n",
    "        q **= (self.alpha + 1.0) / 2.0\n",
    "        q = K.transpose(K.transpose(q) / K.sum(q, axis=1))\n",
    "        return q\n",
    "\n",
    "\n",
    "    def compute_output_shape(self, input_shape):\n",
    "        assert input_shape and len(input_shape) == 3\n",
    "        return input_shape[0], self.n_clusters\n",
    "\n",
    "    def get_config(self):\n",
    "        config = {'n_clusters': self.n_clusters, 'dist_metric': self.dist_metric}\n",
    "        base_config = super(TSClusteringLayer, self).get_config()\n",
    "        return dict(list(base_config.items()) + list(config.items()))"
   ]
  },
  {
   "cell_type": "code",
   "execution_count": 13,
   "id": "bda3577f",
   "metadata": {
    "execution": {
     "iopub.execute_input": "2024-09-24T07:04:46.043560Z",
     "iopub.status.busy": "2024-09-24T07:04:46.042968Z",
     "iopub.status.idle": "2024-09-24T07:04:46.080684Z",
     "shell.execute_reply": "2024-09-24T07:04:46.079580Z"
    },
    "papermill": {
     "duration": 0.054321,
     "end_time": "2024-09-24T07:04:46.083144",
     "exception": false,
     "start_time": "2024-09-24T07:04:46.028823",
     "status": "completed"
    },
    "tags": []
   },
   "outputs": [],
   "source": [
    "class DTC:\n",
    "    def __init__(self, n_clusters, input_dim, timesteps,max_dim=None,dataset_name=None,\n",
    "                 alpha=1.0, dist_metric='eucl', cluster_init='kmeans', heatmap=False):\n",
    "        self.n_clusters = 2\n",
    "        self.input_dim = None\n",
    "        self.timesteps = 791\n",
    "        self.max_dim=max_dim\n",
    "        self.dataset_name=dataset_name\n",
    "        self.latent_shape = 16\n",
    "        self.alpha = alpha\n",
    "        self.dist_metric = dist_metric\n",
    "        self.cluster_init = cluster_init\n",
    "        self.heatmap = heatmap\n",
    "        self.pretrained = False\n",
    "        self.alpha2 = 0.8\n",
    "        self.learning_rate = None\n",
    "        self.optimizer = keras.optimizers.Adam()\n",
    "        self.model = self.autoencoder = self.encoder = self.decoder = self.predmodel =  None\n",
    "        \n",
    "    def initialize(self):\n",
    "        \"\"\"\n",
    "        Create DTC model\n",
    "        \"\"\"\n",
    "        # Create AE models\n",
    "        self.autoencoder, self.encoder, self.decoder = autoencoder(series_len=self.max_dim)\n",
    "        clustering_layer = TSClusteringLayer(self.n_clusters,\n",
    "                                             alpha=self.alpha,\n",
    "                                             dist_metric=self.dist_metric,\n",
    "                                             name='TSClustering')(self.encoder.output)\n",
    "        self.predmodel\n",
    "        # Create DTC model\n",
    "        self.model = Model(inputs=[self.autoencoder.input],\n",
    "                               outputs=[self.autoencoder.output, clustering_layer])\n",
    "\n",
    "    @property\n",
    "    def cluster_centers_(self):\n",
    "        \"\"\"\n",
    "        Returns cluster centers\n",
    "        \"\"\"\n",
    "        return self.model.get_layer(name='TSClustering').get_weights()[0]\n",
    "    \n",
    "    def reconstruction_loss(self, data, reconstruction):\n",
    "        reconstruction_loss = tf.reduce_mean(\n",
    "                tf.reduce_sum(\n",
    "                    keras.losses.mean_squared_error(data, reconstruction), axis=(0, 1)\n",
    "                )\n",
    "            )\n",
    "        return reconstruction_loss\n",
    "\n",
    "    @staticmethod\n",
    "    def weighted_kld(loss_weight):\n",
    "        \"\"\"\n",
    "        Custom KL-divergence loss with a variable weight parameter\n",
    "        \"\"\"\n",
    "        def loss(y_true, y_pred):\n",
    "            return loss_weight * kullback_leibler_divergence(y_true, y_pred)\n",
    "        return loss\n",
    "    \n",
    "    def loss_kld(self, y_true, y_pred):\n",
    "        return kullback_leibler_divergence(y_true, y_pred)\n",
    "    \n",
    "    def on_epoch_end(self, epoch):\n",
    "        \"\"\"\n",
    "        Update heatmap loss weight on epoch end\n",
    "        \"\"\"\n",
    "        if epoch > self.finetune_heatmap_at_epoch:\n",
    "            K.set_value(self.heatmap_loss_weight, self.final_heatmap_loss_weight)\n",
    "\n",
    "    def compile(self, gamma, optimizer, initial_heatmap_loss_weight=None, final_heatmap_loss_weight=None):\n",
    "        \"\"\"\n",
    "        Compile DTC model\n",
    "\n",
    "        # Arguments\n",
    "            gamma: coefficient of TS clustering loss\n",
    "            optimizer: optimization algorithm\n",
    "            initial_heatmap_loss_weight (optional): initial weight of heatmap loss vs clustering loss\n",
    "            final_heatmap_loss_weight (optional): final weight of heatmap loss vs clustering loss (heatmap finetuning)\n",
    "        \"\"\"\n",
    "        if self.heatmap:\n",
    "            self.initial_heatmap_loss_weight = initial_heatmap_loss_weight\n",
    "            self.final_heatmap_loss_weight = final_heatmap_loss_weight\n",
    "            self.heatmap_loss_weight = K.variable(self.initial_heatmap_loss_weight)\n",
    "            self.model.compile(loss=['mse', DTC.weighted_kld(1.0 - self.heatmap_loss_weight), DTC.weighted_kld(self.heatmap_loss_weight)],\n",
    "                               loss_weights=[1.0, gamma, gamma],\n",
    "                               optimizer=optimizer)\n",
    "        else:\n",
    "            self.model.compile(loss=['mse', 'kld'],\n",
    "                               loss_weights=[1.0, gamma],\n",
    "                               optimizer=optimizer)\n",
    "\n",
    "    def load_weights(self, weights_path):\n",
    "        \"\"\"\n",
    "        Load pre-trained weights of DTC model\n",
    "\n",
    "        # Arguments\n",
    "            weight_path: path to weights file (.h5)\n",
    "        \"\"\"\n",
    "        self.model.load_weights(weights_path)\n",
    "        self.pretrained = True\n",
    "\n",
    "    def load_ae_weights(self, ae_weights_path):\n",
    "        \"\"\"\n",
    "        Load pre-trained weights of AE\n",
    "\n",
    "        # Arguments\n",
    "            ae_weight_path: path to weights file (.h5)\n",
    "        \"\"\"\n",
    "        self.autoencoder.load_weights(ae_weights_path)\n",
    "        self.pretrained = True\n",
    "\n",
    "    def dist(self, x1, x2):\n",
    "        \"\"\"\n",
    "        Compute distance between two multivariate time series using chosen distance metric\n",
    "\n",
    "        # Arguments\n",
    "            x1: first input (np array)\n",
    "            x2: second input (np array)\n",
    "        # Return\n",
    "            distance\n",
    "        \"\"\"\n",
    "        if self.dist_metric == 'eucl':\n",
    "            return tsdistances.eucl(x1, x2)\n",
    "        elif self.dist_metric == 'cid':\n",
    "            return tsdistances.cid(x1, x2)\n",
    "        elif self.dist_metric == 'cor':\n",
    "            return tsdistances.cor(x1, x2)\n",
    "        elif self.dist_metric == 'acf':\n",
    "            return tsdistances.acf(x1, x2)\n",
    "        else:\n",
    "            raise ValueError('Available distances are eucl, cid, cor and acf!')\n",
    "\n",
    "    def init_cluster_weights(self, X):\n",
    "        \"\"\"\n",
    "        Initialize with complete-linkage hierarchical clustering or k-means.\n",
    "\n",
    "        # Arguments\n",
    "            X: numpy array containing training set or batch\n",
    "        \"\"\"\n",
    "        assert(self.cluster_init in ['hierarchical', 'kmeans'])\n",
    "        print('Initializing cluster...')\n",
    "\n",
    "        features = self.encode(X)\n",
    "\n",
    "        if self.cluster_init == 'hierarchical':\n",
    "            if self.dist_metric == 'eucl':  # use AgglomerativeClustering off-the-shelf\n",
    "                hc = AgglomerativeClustering(n_clusters=self.n_clusters,\n",
    "                                             affinity='euclidean',\n",
    "                                             linkage='complete').fit(features.reshape(features.shape[0], -1))\n",
    "            else:  # compute distance matrix using dist\n",
    "                d = np.zeros((features.shape[0], features.shape[0]))\n",
    "                for i in range(features.shape[0]):\n",
    "                    for j in range(i):\n",
    "                        d[i, j] = d[j, i] = self.dist(features[i], features[j])\n",
    "                hc = AgglomerativeClustering(n_clusters=self.n_clusters,\n",
    "                                             affinity='precomputed',\n",
    "                                             linkage='complete').fit(d)\n",
    "            # compute centroid\n",
    "            cluster_centers = np.array([features[hc.labels_ == c].mean(axis=0) for c in range(self.n_clusters)])\n",
    "        elif self.cluster_init == 'kmeans':\n",
    "            # fit k-means on flattened features\n",
    "            km = KMeans(n_clusters=self.n_clusters, n_init=10).fit(features.reshape(features.shape[0], -1))\n",
    "            cluster_centers = km.cluster_centers_.reshape(self.n_clusters, features.shape[1])\n",
    "\n",
    "        self.model.get_layer(name='TSClustering').set_weights([cluster_centers])\n",
    "        print('Done!')\n",
    "\n",
    "    def encode(self, x):\n",
    "        \"\"\"\n",
    "        Encoding function. Extract latent features from hidden layer\n",
    "\n",
    "        # Arguments\n",
    "            x: data point\n",
    "        # Return\n",
    "            encoded (latent) data point\n",
    "        \"\"\"\n",
    "        return self.encoder.predict(x)\n",
    "\n",
    "    def decode(self, x):\n",
    "        \"\"\"\n",
    "        Decoding function. Decodes encoded sequence from latent space.\n",
    "\n",
    "        # Arguments\n",
    "            x: encoded (latent) data point\n",
    "        # Return\n",
    "            decoded data point\n",
    "        \"\"\"\n",
    "        return self.decoder.predict(x)\n",
    "\n",
    "    def predict(self, x):\n",
    "        \"\"\"\n",
    "        Predict cluster assignment.\n",
    "\n",
    "        \"\"\"\n",
    "        q = self.model.predict(x, verbose=0)[1]\n",
    "        return q.argmax(axis=1)\n",
    "    \n",
    "    @staticmethod\n",
    "    def target_distribution(q):  # target distribution p which enhances the discrimination of soft label q\n",
    "        weight = q ** 2 / q.sum(0)\n",
    "        return (weight.T / weight.sum(1)).T\n",
    "\n",
    "    def predict_heatmap(self, x):\n",
    "        \"\"\"\n",
    "        Produces TS clustering heatmap from input sequence.\n",
    "\n",
    "        # Arguments\n",
    "            x: data point\n",
    "        # Return\n",
    "            heatmap\n",
    "        \"\"\"\n",
    "        return self.heatmap_model.predict(x, verbose=0)\n",
    "\n",
    "    def pretrain(self, X,\n",
    "                 optimizer='adam',\n",
    "                 epochs=10,\n",
    "                 batch_size=64,\n",
    "                 save_dir='results/tmp',\n",
    "                 verbose=1):\n",
    "        \"\"\"\n",
    "        Pre-train the autoencoder using only MSE reconstruction loss\n",
    "        Saves weights in h5 format.\n",
    "\n",
    "        # Arguments\n",
    "            X: training set\n",
    "            optimizer: optimization algorithm\n",
    "            epochs: number of pre-training epochs\n",
    "            batch_size: training batch size\n",
    "            save_dir: path to existing directory where weights will be saved\n",
    "        \"\"\"\n",
    "        print('Pretraining...')\n",
    "        self.autoencoder.compile(optimizer=optimizer, loss='mse')\n",
    "\n",
    "        # Begin pretraining\n",
    "        #t0 = time()\n",
    "        self.autoencoder.fit(X, X, batch_size=batch_size, epochs=epochs)\n",
    "        #print('Pretraining time: ', time() - t0)\n",
    "        self.autoencoder.save_weights('{}/ae_weights-epoch{}.h5'.format(save_dir, epochs))\n",
    "        print('Pretrained weights are saved to {}/ae_weights-epoch{}.h5'.format(save_dir, epochs))\n",
    "        self.pretrained = True\n",
    "        \n",
    "    def mutate_clustering(self, clustering, mutation_rate=0.3):\n",
    "        new_clustering = clustering.copy()\n",
    "        n_samples = len(clustering)\n",
    "        for i in range(n_samples):\n",
    "            if np.random.rand() < mutation_rate:\n",
    "                new_clustering[i] = 1 - new_clustering[i]\n",
    "        return new_clustering\n",
    "\n",
    "    def crossover_clustering(self, clustering1, clustering2, crossover_rate=0.5):\n",
    "        n_samples = len(clustering1)\n",
    "        new_clustering = clustering1.copy()\n",
    "        for i in range(n_samples):\n",
    "            if np.random.rand() < crossover_rate:\n",
    "                new_clustering[i] = clustering2[i]\n",
    "        return new_clustering\n",
    "    \n",
    "    \n",
    "    def save_metrics(self, metrics, file_path='metrics.csv'):\n",
    "        \"\"\"\n",
    "        Save training metrics to a CSV file.\n",
    "\n",
    "        # Arguments\n",
    "            metrics: List of dictionaries containing metrics for each epoch\n",
    "            file_path: Path to the CSV file where metrics will be saved\n",
    "        \"\"\"\n",
    "        df = pd.DataFrame(metrics)\n",
    "        df.to_csv(file_path, index=False)\n",
    "        print(f'Metrics saved to {file_path}')\n",
    "    \n",
    "    def fit(self, X_train, y_train=None, X_val=None, y_val=None,\n",
    "        epochs=10,\n",
    "        eval_epochs=10,\n",
    "        save_epochs=10,\n",
    "        batch_size=64,\n",
    "        tol=0.001,\n",
    "        patience=5,\n",
    "        finetune_heatmap_at_epoch=8,\n",
    "        save_dir='results/tmp',\n",
    "        mutation_rate=0.01,\n",
    "        crossover_rate=0.5,\n",
    "        num_iterations=5):\n",
    "        \n",
    "    \n",
    "            if not self.pretrained:\n",
    "                print('Autoencoder was not pre-trained!')\n",
    "\n",
    "\n",
    "            y_pred_last = None\n",
    "            patience_cnt = 0\n",
    "            best = []\n",
    "            print('Training for {} epochs.\\nEvaluating every {} and saving model every {} epochs.'.format(epochs, eval_epochs, save_epochs))\n",
    "            best_val_error = float('inf')\n",
    "            # Metrics storage\n",
    "            metrics = []\n",
    "            for epoch in range(epochs):\n",
    "                # Initial clustering\n",
    "                q = self.model.predict(X_train)[1]\n",
    "                p = DTC.target_distribution(q)\n",
    "                p_pred = p.argmax(axis=1)\n",
    "                # Custom training step\n",
    "                with tf.GradientTape() as tape:\n",
    "                    outputs = self.model(X_train, training=True)\n",
    "                    reconstruction_output, clustering_output = outputs\n",
    "\n",
    "                    reconstruction_loss = self.reconstruction_loss(X_train, reconstruction_output)\n",
    "                    clustering_loss = self.loss_kld(p, clustering_output)\n",
    "\n",
    "                    total_loss = tf.reduce_sum(reconstruction_loss) + tf.reduce_sum(clustering_loss)\n",
    "                    total_loss = tf.reduce_sum(total_loss)\n",
    "                    print('Total Loss',total_loss)\n",
    "                    print('reconstruction_loss',tf.reduce_sum(reconstruction_loss))\n",
    "                    print('clustering loss', tf.reduce_sum(clustering_loss))\n",
    "\n",
    "                grads = tape.gradient(total_loss, self.model.trainable_variables)\n",
    "                self.optimizer.apply_gradients(zip(grads, self.model.trainable_variables))"
   ]
  },
  {
   "cell_type": "code",
   "execution_count": 14,
   "id": "31302f8e",
   "metadata": {
    "execution": {
     "iopub.execute_input": "2024-09-24T07:04:46.109865Z",
     "iopub.status.busy": "2024-09-24T07:04:46.109133Z",
     "iopub.status.idle": "2024-09-24T07:04:46.211900Z",
     "shell.execute_reply": "2024-09-24T07:04:46.210809Z"
    },
    "papermill": {
     "duration": 0.11881,
     "end_time": "2024-09-24T07:04:46.214433",
     "exception": false,
     "start_time": "2024-09-24T07:04:46.095623",
     "status": "completed"
    },
    "tags": []
   },
   "outputs": [
    {
     "data": {
      "text/html": [
       "<div>\n",
       "<style scoped>\n",
       "    .dataframe tbody tr th:only-of-type {\n",
       "        vertical-align: middle;\n",
       "    }\n",
       "\n",
       "    .dataframe tbody tr th {\n",
       "        vertical-align: top;\n",
       "    }\n",
       "\n",
       "    .dataframe thead th {\n",
       "        text-align: right;\n",
       "    }\n",
       "</style>\n",
       "<table border=\"1\" class=\"dataframe\">\n",
       "  <thead>\n",
       "    <tr style=\"text-align: right;\">\n",
       "      <th></th>\n",
       "      <th>Series</th>\n",
       "      <th>N</th>\n",
       "      <th>NF</th>\n",
       "      <th>Category</th>\n",
       "      <th>Starting Year</th>\n",
       "      <th>Starting Month</th>\n",
       "      <th>1</th>\n",
       "      <th>2</th>\n",
       "      <th>3</th>\n",
       "      <th>4</th>\n",
       "      <th>...</th>\n",
       "      <th>135</th>\n",
       "      <th>136</th>\n",
       "      <th>137</th>\n",
       "      <th>138</th>\n",
       "      <th>139</th>\n",
       "      <th>140</th>\n",
       "      <th>141</th>\n",
       "      <th>142</th>\n",
       "      <th>143</th>\n",
       "      <th>144</th>\n",
       "    </tr>\n",
       "  </thead>\n",
       "  <tbody>\n",
       "    <tr>\n",
       "      <th>0</th>\n",
       "      <td>N1402</td>\n",
       "      <td>68</td>\n",
       "      <td>18</td>\n",
       "      <td>MICRO</td>\n",
       "      <td>1990</td>\n",
       "      <td>1</td>\n",
       "      <td>2640.0</td>\n",
       "      <td>2640.0</td>\n",
       "      <td>2160.0</td>\n",
       "      <td>4200.0</td>\n",
       "      <td>...</td>\n",
       "      <td>NaN</td>\n",
       "      <td>NaN</td>\n",
       "      <td>NaN</td>\n",
       "      <td>NaN</td>\n",
       "      <td>NaN</td>\n",
       "      <td>NaN</td>\n",
       "      <td>NaN</td>\n",
       "      <td>NaN</td>\n",
       "      <td>NaN</td>\n",
       "      <td>NaN</td>\n",
       "    </tr>\n",
       "    <tr>\n",
       "      <th>1</th>\n",
       "      <td>N1403</td>\n",
       "      <td>68</td>\n",
       "      <td>18</td>\n",
       "      <td>MICRO</td>\n",
       "      <td>1990</td>\n",
       "      <td>1</td>\n",
       "      <td>1680.0</td>\n",
       "      <td>1920.0</td>\n",
       "      <td>120.0</td>\n",
       "      <td>1080.0</td>\n",
       "      <td>...</td>\n",
       "      <td>NaN</td>\n",
       "      <td>NaN</td>\n",
       "      <td>NaN</td>\n",
       "      <td>NaN</td>\n",
       "      <td>NaN</td>\n",
       "      <td>NaN</td>\n",
       "      <td>NaN</td>\n",
       "      <td>NaN</td>\n",
       "      <td>NaN</td>\n",
       "      <td>NaN</td>\n",
       "    </tr>\n",
       "    <tr>\n",
       "      <th>2</th>\n",
       "      <td>N1404</td>\n",
       "      <td>68</td>\n",
       "      <td>18</td>\n",
       "      <td>MICRO</td>\n",
       "      <td>1990</td>\n",
       "      <td>1</td>\n",
       "      <td>1140.0</td>\n",
       "      <td>720.0</td>\n",
       "      <td>4860.0</td>\n",
       "      <td>1200.0</td>\n",
       "      <td>...</td>\n",
       "      <td>NaN</td>\n",
       "      <td>NaN</td>\n",
       "      <td>NaN</td>\n",
       "      <td>NaN</td>\n",
       "      <td>NaN</td>\n",
       "      <td>NaN</td>\n",
       "      <td>NaN</td>\n",
       "      <td>NaN</td>\n",
       "      <td>NaN</td>\n",
       "      <td>NaN</td>\n",
       "    </tr>\n",
       "    <tr>\n",
       "      <th>3</th>\n",
       "      <td>N1405</td>\n",
       "      <td>68</td>\n",
       "      <td>18</td>\n",
       "      <td>MICRO</td>\n",
       "      <td>1990</td>\n",
       "      <td>1</td>\n",
       "      <td>180.0</td>\n",
       "      <td>940.0</td>\n",
       "      <td>2040.0</td>\n",
       "      <td>800.0</td>\n",
       "      <td>...</td>\n",
       "      <td>NaN</td>\n",
       "      <td>NaN</td>\n",
       "      <td>NaN</td>\n",
       "      <td>NaN</td>\n",
       "      <td>NaN</td>\n",
       "      <td>NaN</td>\n",
       "      <td>NaN</td>\n",
       "      <td>NaN</td>\n",
       "      <td>NaN</td>\n",
       "      <td>NaN</td>\n",
       "    </tr>\n",
       "    <tr>\n",
       "      <th>4</th>\n",
       "      <td>N1406</td>\n",
       "      <td>68</td>\n",
       "      <td>18</td>\n",
       "      <td>MICRO</td>\n",
       "      <td>1990</td>\n",
       "      <td>1</td>\n",
       "      <td>2000.0</td>\n",
       "      <td>1550.0</td>\n",
       "      <td>4450.0</td>\n",
       "      <td>3050.0</td>\n",
       "      <td>...</td>\n",
       "      <td>NaN</td>\n",
       "      <td>NaN</td>\n",
       "      <td>NaN</td>\n",
       "      <td>NaN</td>\n",
       "      <td>NaN</td>\n",
       "      <td>NaN</td>\n",
       "      <td>NaN</td>\n",
       "      <td>NaN</td>\n",
       "      <td>NaN</td>\n",
       "      <td>NaN</td>\n",
       "    </tr>\n",
       "  </tbody>\n",
       "</table>\n",
       "<p>5 rows × 150 columns</p>\n",
       "</div>"
      ],
      "text/plain": [
       "  Series   N  NF      Category  Starting Year  Starting Month       1       2  \\\n",
       "0  N1402  68  18  MICRO                  1990               1  2640.0  2640.0   \n",
       "1  N1403  68  18  MICRO                  1990               1  1680.0  1920.0   \n",
       "2  N1404  68  18  MICRO                  1990               1  1140.0   720.0   \n",
       "3  N1405  68  18  MICRO                  1990               1   180.0   940.0   \n",
       "4  N1406  68  18  MICRO                  1990               1  2000.0  1550.0   \n",
       "\n",
       "        3       4  ...  135  136  137  138  139  140  141  142  143  144  \n",
       "0  2160.0  4200.0  ...  NaN  NaN  NaN  NaN  NaN  NaN  NaN  NaN  NaN  NaN  \n",
       "1   120.0  1080.0  ...  NaN  NaN  NaN  NaN  NaN  NaN  NaN  NaN  NaN  NaN  \n",
       "2  4860.0  1200.0  ...  NaN  NaN  NaN  NaN  NaN  NaN  NaN  NaN  NaN  NaN  \n",
       "3  2040.0   800.0  ...  NaN  NaN  NaN  NaN  NaN  NaN  NaN  NaN  NaN  NaN  \n",
       "4  4450.0  3050.0  ...  NaN  NaN  NaN  NaN  NaN  NaN  NaN  NaN  NaN  NaN  \n",
       "\n",
       "[5 rows x 150 columns]"
      ]
     },
     "execution_count": 14,
     "metadata": {},
     "output_type": "execute_result"
    }
   ],
   "source": [
    "m3 = pd.read_csv(\"/kaggle/input/m3monthdataset/M3Month.csv\")\n",
    "m3.head()\n"
   ]
  },
  {
   "cell_type": "code",
   "execution_count": 15,
   "id": "38fae562",
   "metadata": {
    "execution": {
     "iopub.execute_input": "2024-09-24T07:04:46.241911Z",
     "iopub.status.busy": "2024-09-24T07:04:46.241540Z",
     "iopub.status.idle": "2024-09-24T07:04:46.260727Z",
     "shell.execute_reply": "2024-09-24T07:04:46.259699Z"
    },
    "papermill": {
     "duration": 0.035931,
     "end_time": "2024-09-24T07:04:46.263395",
     "exception": false,
     "start_time": "2024-09-24T07:04:46.227464",
     "status": "completed"
    },
    "tags": []
   },
   "outputs": [
    {
     "name": "stdout",
     "output_type": "stream",
     "text": [
      "MICRO       \n",
      "INDUSTRY    \n",
      "MACRO       \n",
      "FINANCE     \n",
      "DEMOGRAPHIC \n",
      "OTHER       \n"
     ]
    }
   ],
   "source": [
    "class_dataframes = {}  # A dictionary to store DataFrames for each class\n",
    "\n",
    "# Iterate over unique class labels in the 'category' column\n",
    "for class_label in m3['Category'].unique():\n",
    "    print(class_label)\n",
    "    # Filter the original DataFrame for rows with the current class label\n",
    "    class_df = m3[m3['Category'] == class_label]\n",
    "    class_label = class_label.replace(\" \", \"\")\n",
    "    # Store the class-specific DataFrame in the dictionary with the class label as the key\n",
    "    class_dataframes[class_label] = class_df"
   ]
  },
  {
   "cell_type": "code",
   "execution_count": 16,
   "id": "44ceccef",
   "metadata": {
    "execution": {
     "iopub.execute_input": "2024-09-24T07:04:46.290505Z",
     "iopub.status.busy": "2024-09-24T07:04:46.289715Z",
     "iopub.status.idle": "2024-09-24T07:04:46.296076Z",
     "shell.execute_reply": "2024-09-24T07:04:46.294970Z"
    },
    "papermill": {
     "duration": 0.022391,
     "end_time": "2024-09-24T07:04:46.298319",
     "exception": false,
     "start_time": "2024-09-24T07:04:46.275928",
     "status": "completed"
    },
    "tags": []
   },
   "outputs": [],
   "source": [
    "def preprocessing(data):\n",
    "    ts_train = []\n",
    "\n",
    "    for i in range(data.shape[0]):\n",
    "        temp=np.array(list(data.iloc[i][6:].dropna()))\n",
    "        temp = temp[:-18]\n",
    "        temp=temp.reshape(1,len(temp),1)\n",
    "        temp2 = TimeSeriesScalerMeanVariance().fit_transform(temp)\n",
    "        ts_train.append(temp2.reshape(-1,1))\n",
    "\n",
    "    return ts_train "
   ]
  },
  {
   "cell_type": "code",
   "execution_count": 17,
   "id": "873068a7",
   "metadata": {
    "execution": {
     "iopub.execute_input": "2024-09-24T07:04:46.324903Z",
     "iopub.status.busy": "2024-09-24T07:04:46.324536Z",
     "iopub.status.idle": "2024-09-24T07:04:47.991940Z",
     "shell.execute_reply": "2024-09-24T07:04:47.990881Z"
    },
    "papermill": {
     "duration": 1.683652,
     "end_time": "2024-09-24T07:04:47.994444",
     "exception": false,
     "start_time": "2024-09-24T07:04:46.310792",
     "status": "completed"
    },
    "tags": []
   },
   "outputs": [],
   "source": [
    "dataset_MICRO = preprocessing(class_dataframes['MICRO'])\n",
    "dataset_INDUSTRY = preprocessing(class_dataframes['INDUSTRY'])\n",
    "dataset_MACRO = preprocessing(class_dataframes['MACRO'])\n",
    "dataset_FINANCE = preprocessing(class_dataframes['FINANCE'])\n",
    "dataset_DEMOGRAPHIC = preprocessing(class_dataframes['DEMOGRAPHIC'])\n",
    "dataset_OTHER = preprocessing(class_dataframes['OTHER'])"
   ]
  },
  {
   "cell_type": "code",
   "execution_count": 18,
   "id": "6cae9195",
   "metadata": {
    "execution": {
     "iopub.execute_input": "2024-09-24T07:04:48.021597Z",
     "iopub.status.busy": "2024-09-24T07:04:48.021210Z",
     "iopub.status.idle": "2024-09-24T07:04:48.028150Z",
     "shell.execute_reply": "2024-09-24T07:04:48.026892Z"
    },
    "papermill": {
     "duration": 0.022983,
     "end_time": "2024-09-24T07:04:48.030303",
     "exception": false,
     "start_time": "2024-09-24T07:04:48.007320",
     "status": "completed"
    },
    "tags": []
   },
   "outputs": [],
   "source": [
    "max_seq_length_MICRO = max(len(seq) for seq in dataset_MICRO)\n",
    "max_seq_length_INDUSTRY = max(len(seq) for seq in dataset_INDUSTRY)\n",
    "max_seq_length_MACRO = max(len(seq) for seq in dataset_MACRO)\n",
    "max_seq_length_FINANCE = max(len(seq) for seq in dataset_FINANCE)\n",
    "max_seq_length_DEMOGRAPHIC = max(len(seq) for seq in dataset_DEMOGRAPHIC)\n",
    "max_seq_length_OTHER = max(len(seq) for seq in dataset_OTHER)"
   ]
  },
  {
   "cell_type": "code",
   "execution_count": 19,
   "id": "f0a52040",
   "metadata": {
    "execution": {
     "iopub.execute_input": "2024-09-24T07:04:48.058020Z",
     "iopub.status.busy": "2024-09-24T07:04:48.057614Z",
     "iopub.status.idle": "2024-09-24T07:04:48.070105Z",
     "shell.execute_reply": "2024-09-24T07:04:48.069065Z"
    },
    "papermill": {
     "duration": 0.029381,
     "end_time": "2024-09-24T07:04:48.072590",
     "exception": false,
     "start_time": "2024-09-24T07:04:48.043209",
     "status": "completed"
    },
    "tags": []
   },
   "outputs": [],
   "source": [
    "padded_sequences_MICRO = tf.keras.preprocessing.sequence.pad_sequences(dataset_MICRO, maxlen=max_seq_length_MICRO, padding='post', dtype='float32')\n",
    "padded_sequences_INDUSTRY = tf.keras.preprocessing.sequence.pad_sequences(dataset_INDUSTRY, maxlen=max_seq_length_INDUSTRY, padding='post', dtype='float32')\n",
    "padded_sequences_MACRO = tf.keras.preprocessing.sequence.pad_sequences(dataset_MACRO, maxlen=max_seq_length_MACRO, padding='post', dtype='float32')\n",
    "padded_sequences_FINANCE = tf.keras.preprocessing.sequence.pad_sequences(dataset_FINANCE, maxlen=max_seq_length_FINANCE, padding='post', dtype='float32')\n",
    "padded_sequences_DEMOGRAPHIC = tf.keras.preprocessing.sequence.pad_sequences(dataset_DEMOGRAPHIC, maxlen=max_seq_length_DEMOGRAPHIC, padding='post', dtype='float32')\n",
    "padded_sequences_OTHER = tf.keras.preprocessing.sequence.pad_sequences(dataset_OTHER, maxlen=max_seq_length_OTHER, padding='post', dtype='float32')"
   ]
  },
  {
   "cell_type": "code",
   "execution_count": 20,
   "id": "64fc111e",
   "metadata": {
    "execution": {
     "iopub.execute_input": "2024-09-24T07:04:48.100077Z",
     "iopub.status.busy": "2024-09-24T07:04:48.099146Z",
     "iopub.status.idle": "2024-09-24T07:04:48.105994Z",
     "shell.execute_reply": "2024-09-24T07:04:48.104850Z"
    },
    "papermill": {
     "duration": 0.023172,
     "end_time": "2024-09-24T07:04:48.108345",
     "exception": false,
     "start_time": "2024-09-24T07:04:48.085173",
     "status": "completed"
    },
    "tags": []
   },
   "outputs": [],
   "source": [
    "reshaped_array_MICRO = padded_sequences_MICRO.reshape(padded_sequences_MICRO.shape[0], 1, padded_sequences_MICRO.shape[1])\n",
    "reshaped_array_INDUSTRY = padded_sequences_INDUSTRY.reshape(padded_sequences_INDUSTRY.shape[0], 1, padded_sequences_INDUSTRY.shape[1])\n",
    "reshaped_array_MACRO = padded_sequences_MACRO.reshape(padded_sequences_MACRO.shape[0], 1, padded_sequences_MACRO.shape[1])\n",
    "reshaped_array_FINANCE = padded_sequences_FINANCE.reshape(padded_sequences_FINANCE.shape[0], 1, padded_sequences_FINANCE.shape[1])\n",
    "reshaped_array_DEMOGRAPHIC = padded_sequences_DEMOGRAPHIC.reshape(padded_sequences_DEMOGRAPHIC.shape[0], 1, padded_sequences_DEMOGRAPHIC.shape[1])\n",
    "reshaped_array_OTHER = padded_sequences_OTHER.reshape(padded_sequences_OTHER.shape[0], 1, padded_sequences_OTHER.shape[1])"
   ]
  },
  {
   "cell_type": "code",
   "execution_count": 21,
   "id": "e0a95b25",
   "metadata": {
    "execution": {
     "iopub.execute_input": "2024-09-24T07:04:48.136001Z",
     "iopub.status.busy": "2024-09-24T07:04:48.135638Z",
     "iopub.status.idle": "2024-09-24T07:04:48.143919Z",
     "shell.execute_reply": "2024-09-24T07:04:48.142804Z"
    },
    "papermill": {
     "duration": 0.025306,
     "end_time": "2024-09-24T07:04:48.146409",
     "exception": false,
     "start_time": "2024-09-24T07:04:48.121103",
     "status": "completed"
    },
    "tags": []
   },
   "outputs": [
    {
     "name": "stdout",
     "output_type": "stream",
     "text": [
      "(474, 1, 108)\n",
      "(334, 1, 126)\n",
      "(312, 1, 126)\n",
      "(145, 1, 126)\n",
      "(111, 1, 120)\n",
      "(52, 1, 102)\n"
     ]
    }
   ],
   "source": [
    "print(reshaped_array_MICRO.shape)\n",
    "print(reshaped_array_INDUSTRY.shape)\n",
    "print(reshaped_array_MACRO.shape)\n",
    "print(reshaped_array_FINANCE.shape)\n",
    "print(reshaped_array_DEMOGRAPHIC.shape)\n",
    "print(reshaped_array_OTHER.shape)"
   ]
  },
  {
   "cell_type": "code",
   "execution_count": 22,
   "id": "51eb422f",
   "metadata": {
    "execution": {
     "iopub.execute_input": "2024-09-24T07:04:48.174223Z",
     "iopub.status.busy": "2024-09-24T07:04:48.173809Z",
     "iopub.status.idle": "2024-09-24T07:04:48.180022Z",
     "shell.execute_reply": "2024-09-24T07:04:48.179023Z"
    },
    "papermill": {
     "duration": 0.023101,
     "end_time": "2024-09-24T07:04:48.182380",
     "exception": false,
     "start_time": "2024-09-24T07:04:48.159279",
     "status": "completed"
    },
    "tags": []
   },
   "outputs": [],
   "source": [
    "def preprocessing_tourism_hospital(data):\n",
    "    ts_train = []\n",
    "\n",
    "    for i in range(data.shape[0]):\n",
    "        temp=np.array(list(data.iloc[i][:].dropna()))\n",
    "#         temp = temp[:-18]\n",
    "        temp=temp.reshape(1,len(temp),1)\n",
    "        temp2 = TimeSeriesScalerMeanVariance().fit_transform(temp)\n",
    "        ts_train.append(temp2.reshape(-1,1))\n",
    "\n",
    "    return ts_train "
   ]
  },
  {
   "cell_type": "code",
   "execution_count": 23,
   "id": "250c3648",
   "metadata": {
    "execution": {
     "iopub.execute_input": "2024-09-24T07:04:48.210724Z",
     "iopub.status.busy": "2024-09-24T07:04:48.210039Z",
     "iopub.status.idle": "2024-09-24T07:04:49.828383Z",
     "shell.execute_reply": "2024-09-24T07:04:49.827328Z"
    },
    "papermill": {
     "duration": 1.635342,
     "end_time": "2024-09-24T07:04:49.830937",
     "exception": false,
     "start_time": "2024-09-24T07:04:48.195595",
     "status": "completed"
    },
    "tags": []
   },
   "outputs": [
    {
     "name": "stdout",
     "output_type": "stream",
     "text": [
      "(427, 1, 122)\n"
     ]
    }
   ],
   "source": [
    "dataset_tourism = pd.read_excel(\"/kaggle/input/newtsdatasets/Tourism-new.xlsx\",header=None) # Kaggle - Wikipedia - Horizon 59\n",
    "\n",
    "dataset_tourism=dataset_tourism.iloc[:,:-8]\n",
    "dataset_tourism = preprocessing_tourism_hospital(dataset_tourism)\n",
    "max_seq_length_tourism= max(len(seq) for seq in dataset_tourism)\n",
    "padded_sequences_tourism = tf.keras.preprocessing.sequence.pad_sequences(dataset_tourism, maxlen=max_seq_length_tourism, padding='post', dtype='float32')\n",
    "reshaped_array_tourism = padded_sequences_tourism.reshape(padded_sequences_tourism.shape[0], 1, padded_sequences_tourism.shape[1])\n",
    "print(reshaped_array_tourism.shape)"
   ]
  },
  {
   "cell_type": "code",
   "execution_count": 24,
   "id": "0b60ca18",
   "metadata": {
    "execution": {
     "iopub.execute_input": "2024-09-24T07:04:49.858501Z",
     "iopub.status.busy": "2024-09-24T07:04:49.857768Z",
     "iopub.status.idle": "2024-09-24T07:04:51.453567Z",
     "shell.execute_reply": "2024-09-24T07:04:51.452311Z"
    },
    "papermill": {
     "duration": 1.612352,
     "end_time": "2024-09-24T07:04:51.455991",
     "exception": false,
     "start_time": "2024-09-24T07:04:49.843639",
     "status": "completed"
    },
    "tags": []
   },
   "outputs": [
    {
     "name": "stdout",
     "output_type": "stream",
     "text": [
      "(767, 1, 72)\n"
     ]
    }
   ],
   "source": [
    "dataset_hospital = pd.read_excel(\"/kaggle/input/newtsdatasets/Hospital_new.xlsx\",header=None) # Kaggle - Wikipedia - Horizon 59\n",
    "\n",
    "dataset_hospital=dataset_hospital.iloc[:,:-12]\n",
    "dataset_hospital = preprocessing_tourism_hospital(dataset_hospital)\n",
    "max_seq_length_hospital= max(len(seq) for seq in dataset_hospital)\n",
    "padded_sequences_hospital = tf.keras.preprocessing.sequence.pad_sequences(dataset_hospital, maxlen=max_seq_length_hospital, padding='post', dtype='float32')\n",
    "reshaped_array_hospital= padded_sequences_hospital.reshape(padded_sequences_hospital.shape[0], 1, padded_sequences_hospital.shape[1])\n",
    "print(reshaped_array_hospital.shape)"
   ]
  },
  {
   "cell_type": "code",
   "execution_count": 25,
   "id": "1e88f28f",
   "metadata": {
    "execution": {
     "iopub.execute_input": "2024-09-24T07:04:51.483741Z",
     "iopub.status.busy": "2024-09-24T07:04:51.483346Z",
     "iopub.status.idle": "2024-09-24T07:04:51.661384Z",
     "shell.execute_reply": "2024-09-24T07:04:51.660091Z"
    },
    "papermill": {
     "duration": 0.194613,
     "end_time": "2024-09-24T07:04:51.663712",
     "exception": false,
     "start_time": "2024-09-24T07:04:51.469099",
     "status": "completed"
    },
    "tags": []
   },
   "outputs": [
    {
     "name": "stdout",
     "output_type": "stream",
     "text": [
      "(57, 1, 108)\n"
     ]
    }
   ],
   "source": [
    "dataset_cif = pd.read_excel(\"/kaggle/input/cifnewdataset/12.xlsx\",header=None) # Kaggle - Wikipedia - Horizon 59\n",
    "\n",
    "dataset_cif=dataset_cif.iloc[:,:-12]\n",
    "dataset_cif = preprocessing_tourism_hospital(dataset_cif)\n",
    "max_seq_length_cif= max(len(seq) for seq in dataset_cif)\n",
    "padded_sequences_cif = tf.keras.preprocessing.sequence.pad_sequences(dataset_cif, maxlen=max_seq_length_cif, padding='post', dtype='float32')\n",
    "reshaped_array_cif= padded_sequences_cif.reshape(padded_sequences_cif.shape[0], 1, padded_sequences_cif.shape[1])\n",
    "print(reshaped_array_cif.shape)"
   ]
  },
  {
   "cell_type": "code",
   "execution_count": 26,
   "id": "dc70e172",
   "metadata": {
    "execution": {
     "iopub.execute_input": "2024-09-24T07:04:51.691193Z",
     "iopub.status.busy": "2024-09-24T07:04:51.690781Z",
     "iopub.status.idle": "2024-09-24T07:04:51.695553Z",
     "shell.execute_reply": "2024-09-24T07:04:51.694463Z"
    },
    "papermill": {
     "duration": 0.02096,
     "end_time": "2024-09-24T07:04:51.697727",
     "exception": false,
     "start_time": "2024-09-24T07:04:51.676767",
     "status": "completed"
    },
    "tags": []
   },
   "outputs": [],
   "source": [
    "dataset_name='m3-macro'"
   ]
  },
  {
   "cell_type": "code",
   "execution_count": 27,
   "id": "dfb57414",
   "metadata": {
    "execution": {
     "iopub.execute_input": "2024-09-24T07:04:51.725144Z",
     "iopub.status.busy": "2024-09-24T07:04:51.724722Z",
     "iopub.status.idle": "2024-09-24T07:04:51.732813Z",
     "shell.execute_reply": "2024-09-24T07:04:51.731659Z"
    },
    "papermill": {
     "duration": 0.024599,
     "end_time": "2024-09-24T07:04:51.735161",
     "exception": false,
     "start_time": "2024-09-24T07:04:51.710562",
     "status": "completed"
    },
    "tags": []
   },
   "outputs": [],
   "source": [
    "if dataset_name=='cif-12':\n",
    "    padded_seq=padded_sequences_cif\n",
    "    reshaped_array=reshaped_array_cif\n",
    "    max_dim=max_seq_length_cif\n",
    "elif dataset_name=='hospital':\n",
    "    padded_seq=padded_sequences_hospital\n",
    "    reshaped_array=reshaped_array_hospital\n",
    "    max_dim=max_seq_length_hospital\n",
    "elif dataset_name=='tourism':\n",
    "    padded_seq=padded_sequences_tourism\n",
    "    reshaped_array=reshaped_array_tourism\n",
    "    max_dim=max_seq_length_tourism\n",
    "elif dataset_name=='m3-demo':\n",
    "    padded_seq=padded_sequences_DEMOGRAPHIC\n",
    "    reshaped_array=reshaped_array_DEMOGRAPHIC\n",
    "    max_dim=max_seq_length_DEMOGRAPHIC\n",
    "elif dataset_name=='m3-finance':\n",
    "    padded_seq=padded_sequences_FINANCE\n",
    "    reshaped_array=reshaped_array_FINANCE\n",
    "    max_dim=max_seq_length_FINANCE\n",
    "elif dataset_name=='m3-industry':\n",
    "    padded_seq=padded_sequences_INDUSTRY\n",
    "    reshaped_array=reshaped_array_INDUSTRY\n",
    "    max_dim=max_seq_length_INDUSTRY\n",
    "\n",
    "elif dataset_name=='m3-macro':\n",
    "    padded_seq=padded_sequences_MACRO\n",
    "    reshaped_array=reshaped_array_MACRO\n",
    "    max_dim=max_seq_length_MACRO\n",
    "elif dataset_name=='m3-micro':\n",
    "    padded_seq=padded_sequences_MICRO\n",
    "    reshaped_array=reshaped_array_MICRO\n",
    "    max_dim=max_seq_length_MICRO\n",
    "else:\n",
    "    padded_seq=padded_sequences_OTHER\n",
    "    reshaped_array=reshaped_array_OTHER\n",
    "    max_dim=max_seq_length_OTHER"
   ]
  },
  {
   "cell_type": "code",
   "execution_count": 28,
   "id": "d9a96f0f",
   "metadata": {
    "execution": {
     "iopub.execute_input": "2024-09-24T07:04:51.763098Z",
     "iopub.status.busy": "2024-09-24T07:04:51.762694Z",
     "iopub.status.idle": "2024-09-24T07:04:51.774390Z",
     "shell.execute_reply": "2024-09-24T07:04:51.773284Z"
    },
    "papermill": {
     "duration": 0.028792,
     "end_time": "2024-09-24T07:04:51.777045",
     "exception": false,
     "start_time": "2024-09-24T07:04:51.748253",
     "status": "completed"
    },
    "tags": []
   },
   "outputs": [],
   "source": [
    "dtc = DTC(n_clusters=2,input_dim=reshaped_array.shape[-1], timesteps=padded_seq.shape[1], max_dim=max_dim,dataset_name=dataset_name)"
   ]
  },
  {
   "cell_type": "code",
   "execution_count": 29,
   "id": "a01efb13",
   "metadata": {
    "execution": {
     "iopub.execute_input": "2024-09-24T07:04:51.807280Z",
     "iopub.status.busy": "2024-09-24T07:04:51.806081Z",
     "iopub.status.idle": "2024-09-24T07:04:51.811139Z",
     "shell.execute_reply": "2024-09-24T07:04:51.809995Z"
    },
    "papermill": {
     "duration": 0.023474,
     "end_time": "2024-09-24T07:04:51.813477",
     "exception": false,
     "start_time": "2024-09-24T07:04:51.790003",
     "status": "completed"
    },
    "tags": []
   },
   "outputs": [],
   "source": [
    "# Instantiate model\n",
    "# dtc = DTC(n_clusters=2,input_dim=reshaped_array_DEMOGRAPHIC.shape[-1], timesteps=reshaped_array_DEMOGRAPHIC.shape[1], max_dim=max_seq_length_DEMOGRAPHIC)"
   ]
  },
  {
   "cell_type": "code",
   "execution_count": 30,
   "id": "650144a6",
   "metadata": {
    "execution": {
     "iopub.execute_input": "2024-09-24T07:04:51.841082Z",
     "iopub.status.busy": "2024-09-24T07:04:51.840601Z",
     "iopub.status.idle": "2024-09-24T07:04:55.106974Z",
     "shell.execute_reply": "2024-09-24T07:04:55.105840Z"
    },
    "papermill": {
     "duration": 3.290048,
     "end_time": "2024-09-24T07:04:55.116605",
     "exception": false,
     "start_time": "2024-09-24T07:04:51.826557",
     "status": "completed"
    },
    "tags": []
   },
   "outputs": [
    {
     "name": "stdout",
     "output_type": "stream",
     "text": [
      "Model: \"model\"\n",
      "__________________________________________________________________________________________________\n",
      " Layer (type)                   Output Shape         Param #     Connected to                     \n",
      "==================================================================================================\n",
      " input (InputLayer)             [(None, None, 126)]  0           []                               \n",
      "                                                                                                  \n",
      " encoded_lstm1 (LSTM)           (None, None, 256)    392192      ['input[0][0]']                  \n",
      "                                                                                                  \n",
      " encoded_lstm2 (LSTM)           (None, None, 128)    197120      ['encoded_lstm1[0][0]']          \n",
      "                                                                                                  \n",
      " encoded_atten (Attention)      (None, None, 128)    0           ['encoded_lstm2[0][0]',          \n",
      "                                                                  'encoded_lstm2[0][0]',          \n",
      "                                                                  'encoded_lstm2[0][0]']          \n",
      "                                                                                                  \n",
      " concatenate (Concatenate)      (None, None, 256)    0           ['encoded_lstm2[0][0]',          \n",
      "                                                                  'encoded_atten[0][0]']          \n",
      "                                                                                                  \n",
      " encoded_lstm3 (LSTM)           (None, 64)           82176       ['concatenate[0][0]']            \n",
      "                                                                                                  \n",
      " encoded_dense (Dense)          (None, 16)           1040        ['encoded_lstm3[0][0]']          \n",
      "                                                                                                  \n",
      " repeat_vector (RepeatVector)   (None, 1, 16)        0           ['encoded_dense[0][0]']          \n",
      "                                                                                                  \n",
      " decoded_lstm1 (LSTM)           (None, 1, 64)        20736       ['repeat_vector[0][0]']          \n",
      "                                                                                                  \n",
      " decoded_lstm2 (LSTM)           (None, 1, 128)       98816       ['decoded_lstm1[0][0]']          \n",
      "                                                                                                  \n",
      " decoded_lstm3 (LSTM)           (None, 1, 256)       394240      ['decoded_lstm2[0][0]']          \n",
      "                                                                                                  \n",
      " decoded_atten (Attention)      (None, 1, 256)       0           ['decoded_lstm3[0][0]',          \n",
      "                                                                  'decoded_lstm3[0][0]',          \n",
      "                                                                  'decoded_lstm3[0][0]']          \n",
      "                                                                                                  \n",
      " decoded_concat (Concatenate)   (None, 1, 512)       0           ['decoded_lstm3[0][0]',          \n",
      "                                                                  'decoded_atten[0][0]']          \n",
      "                                                                                                  \n",
      " decoded_timeD (TimeDistributed  (None, 1, 126)      64638       ['decoded_concat[0][0]']         \n",
      " )                                                                                                \n",
      "                                                                                                  \n",
      " TSClustering (TSClusteringLaye  (None, 2)           32          ['encoded_dense[0][0]']          \n",
      " r)                                                                                               \n",
      "                                                                                                  \n",
      "==================================================================================================\n",
      "Total params: 1,250,990\n",
      "Trainable params: 1,250,990\n",
      "Non-trainable params: 0\n",
      "__________________________________________________________________________________________________\n"
     ]
    }
   ],
   "source": [
    "optimizer = 'adam'\n",
    "dtc.initialize()\n",
    "dtc.model.summary()"
   ]
  },
  {
   "cell_type": "code",
   "execution_count": 31,
   "id": "d37082f1",
   "metadata": {
    "execution": {
     "iopub.execute_input": "2024-09-24T07:04:55.150548Z",
     "iopub.status.busy": "2024-09-24T07:04:55.149675Z",
     "iopub.status.idle": "2024-09-24T07:04:55.171069Z",
     "shell.execute_reply": "2024-09-24T07:04:55.169964Z"
    },
    "papermill": {
     "duration": 0.041221,
     "end_time": "2024-09-24T07:04:55.173576",
     "exception": false,
     "start_time": "2024-09-24T07:04:55.132355",
     "status": "completed"
    },
    "tags": []
   },
   "outputs": [],
   "source": [
    "dtc.compile(gamma=1.0, optimizer=optimizer, initial_heatmap_loss_weight=0.1,\n",
    "                final_heatmap_loss_weight=0.9)"
   ]
  },
  {
   "cell_type": "code",
   "execution_count": 32,
   "id": "9ada51bf",
   "metadata": {
    "execution": {
     "iopub.execute_input": "2024-09-24T07:04:55.206527Z",
     "iopub.status.busy": "2024-09-24T07:04:55.206122Z",
     "iopub.status.idle": "2024-09-24T07:08:49.788859Z",
     "shell.execute_reply": "2024-09-24T07:08:49.787624Z"
    },
    "papermill": {
     "duration": 234.602196,
     "end_time": "2024-09-24T07:08:49.791410",
     "exception": false,
     "start_time": "2024-09-24T07:04:55.189214",
     "status": "completed"
    },
    "tags": []
   },
   "outputs": [
    {
     "name": "stdout",
     "output_type": "stream",
     "text": [
      "Pretraining...\n",
      "Epoch 1/50\n",
      "32/32 [==============================] - 5s 146ms/step - loss: 0.7400\n",
      "Epoch 2/50\n",
      "32/32 [==============================] - 5s 149ms/step - loss: 0.3518\n",
      "Epoch 3/50\n",
      "32/32 [==============================] - 5s 148ms/step - loss: 0.3184\n",
      "Epoch 4/50\n",
      "32/32 [==============================] - 5s 149ms/step - loss: 0.3054\n",
      "Epoch 5/50\n",
      "32/32 [==============================] - 5s 150ms/step - loss: 0.3006\n",
      "Epoch 6/50\n",
      "32/32 [==============================] - 5s 148ms/step - loss: 0.2992\n",
      "Epoch 7/50\n",
      "32/32 [==============================] - 5s 147ms/step - loss: 0.2979\n",
      "Epoch 8/50\n",
      "32/32 [==============================] - 5s 147ms/step - loss: 0.2973\n",
      "Epoch 9/50\n",
      "32/32 [==============================] - 5s 146ms/step - loss: 0.2962\n",
      "Epoch 10/50\n",
      "32/32 [==============================] - 5s 146ms/step - loss: 0.2946\n",
      "Epoch 11/50\n",
      "32/32 [==============================] - 5s 154ms/step - loss: 0.2938\n",
      "Epoch 12/50\n",
      "32/32 [==============================] - 5s 144ms/step - loss: 0.2918\n",
      "Epoch 13/50\n",
      "32/32 [==============================] - 5s 148ms/step - loss: 0.2912\n",
      "Epoch 14/50\n",
      "32/32 [==============================] - 5s 144ms/step - loss: 0.2898\n",
      "Epoch 15/50\n",
      "32/32 [==============================] - 5s 149ms/step - loss: 0.2904\n",
      "Epoch 16/50\n",
      "32/32 [==============================] - 5s 146ms/step - loss: 0.2890\n",
      "Epoch 17/50\n",
      "32/32 [==============================] - 5s 147ms/step - loss: 0.2885\n",
      "Epoch 18/50\n",
      "32/32 [==============================] - 5s 150ms/step - loss: 0.2871\n",
      "Epoch 19/50\n",
      "32/32 [==============================] - 5s 146ms/step - loss: 0.2864\n",
      "Epoch 20/50\n",
      "32/32 [==============================] - 5s 143ms/step - loss: 0.2826\n",
      "Epoch 21/50\n",
      "32/32 [==============================] - 5s 145ms/step - loss: 0.2802\n",
      "Epoch 22/50\n",
      "32/32 [==============================] - 5s 145ms/step - loss: 0.2720\n",
      "Epoch 23/50\n",
      "32/32 [==============================] - 5s 147ms/step - loss: 0.2560\n",
      "Epoch 24/50\n",
      "32/32 [==============================] - 5s 147ms/step - loss: 0.2430\n",
      "Epoch 25/50\n",
      "32/32 [==============================] - 5s 146ms/step - loss: 0.2306\n",
      "Epoch 26/50\n",
      "32/32 [==============================] - 5s 146ms/step - loss: 0.2228\n",
      "Epoch 27/50\n",
      "32/32 [==============================] - 5s 144ms/step - loss: 0.2177\n",
      "Epoch 28/50\n",
      "32/32 [==============================] - 5s 147ms/step - loss: 0.2126\n",
      "Epoch 29/50\n",
      "32/32 [==============================] - 5s 142ms/step - loss: 0.2102\n",
      "Epoch 30/50\n",
      "32/32 [==============================] - 5s 146ms/step - loss: 0.2093\n",
      "Epoch 31/50\n",
      "32/32 [==============================] - 5s 147ms/step - loss: 0.2032\n",
      "Epoch 32/50\n",
      "32/32 [==============================] - 5s 146ms/step - loss: 0.2000\n",
      "Epoch 33/50\n",
      "32/32 [==============================] - 5s 143ms/step - loss: 0.1949\n",
      "Epoch 34/50\n",
      "32/32 [==============================] - 5s 147ms/step - loss: 0.1926\n",
      "Epoch 35/50\n",
      "32/32 [==============================] - 5s 145ms/step - loss: 0.1886\n",
      "Epoch 36/50\n",
      "32/32 [==============================] - 5s 146ms/step - loss: 0.1875\n",
      "Epoch 37/50\n",
      "32/32 [==============================] - 5s 146ms/step - loss: 0.1825\n",
      "Epoch 38/50\n",
      "32/32 [==============================] - 5s 147ms/step - loss: 0.1800\n",
      "Epoch 39/50\n",
      "32/32 [==============================] - 5s 146ms/step - loss: 0.1785\n",
      "Epoch 40/50\n",
      "32/32 [==============================] - 5s 145ms/step - loss: 0.1805\n",
      "Epoch 41/50\n",
      "32/32 [==============================] - 5s 147ms/step - loss: 0.1770\n",
      "Epoch 42/50\n",
      "32/32 [==============================] - 5s 144ms/step - loss: 0.1767\n",
      "Epoch 43/50\n",
      "32/32 [==============================] - 5s 146ms/step - loss: 0.1743\n",
      "Epoch 44/50\n",
      "32/32 [==============================] - 5s 144ms/step - loss: 0.1728\n",
      "Epoch 45/50\n",
      "32/32 [==============================] - 5s 148ms/step - loss: 0.1699\n",
      "Epoch 46/50\n",
      "32/32 [==============================] - 5s 142ms/step - loss: 0.1681\n",
      "Epoch 47/50\n",
      "32/32 [==============================] - 5s 146ms/step - loss: 0.1664\n",
      "Epoch 48/50\n",
      "32/32 [==============================] - 5s 145ms/step - loss: 0.1661\n",
      "Epoch 49/50\n",
      "32/32 [==============================] - 5s 145ms/step - loss: 0.1633\n",
      "Epoch 50/50\n",
      "32/32 [==============================] - 5s 143ms/step - loss: 0.1645\n",
      "Pretrained weights are saved to /kaggle/working//ae_weights-epoch50.h5\n"
     ]
    }
   ],
   "source": [
    "dtc.pretrain(X=reshaped_array, optimizer=optimizer, epochs=50, batch_size=10,save_dir=\"/kaggle/working/\")"
   ]
  },
  {
   "cell_type": "code",
   "execution_count": 33,
   "id": "e3018198",
   "metadata": {
    "execution": {
     "iopub.execute_input": "2024-09-24T07:08:50.036836Z",
     "iopub.status.busy": "2024-09-24T07:08:50.036439Z",
     "iopub.status.idle": "2024-09-24T07:08:50.041177Z",
     "shell.execute_reply": "2024-09-24T07:08:50.040114Z"
    },
    "papermill": {
     "duration": 0.130771,
     "end_time": "2024-09-24T07:08:50.043313",
     "exception": false,
     "start_time": "2024-09-24T07:08:49.912542",
     "status": "completed"
    },
    "tags": []
   },
   "outputs": [],
   "source": [
    "# Initialize clusters\n"
   ]
  },
  {
   "cell_type": "code",
   "execution_count": 34,
   "id": "f255f431",
   "metadata": {
    "execution": {
     "iopub.execute_input": "2024-09-24T07:08:50.287473Z",
     "iopub.status.busy": "2024-09-24T07:08:50.286490Z",
     "iopub.status.idle": "2024-09-24T07:08:58.785525Z",
     "shell.execute_reply": "2024-09-24T07:08:58.784432Z"
    },
    "papermill": {
     "duration": 8.624376,
     "end_time": "2024-09-24T07:08:58.788146",
     "exception": false,
     "start_time": "2024-09-24T07:08:50.163770",
     "status": "completed"
    },
    "tags": []
   },
   "outputs": [
    {
     "name": "stdout",
     "output_type": "stream",
     "text": [
      "Training for 10 epochs.\n",
      "Evaluating every 10 and saving model every 10 epochs.\n",
      "10/10 [==============================] - 1s 57ms/step\n",
      "Total Loss tf.Tensor(50.143402, shape=(), dtype=float32)\n",
      "reconstruction_loss tf.Tensor(49.60671, shape=(), dtype=float32)\n",
      "clustering loss tf.Tensor(0.5366952, shape=(), dtype=float32)\n",
      "10/10 [==============================] - 1s 60ms/step\n",
      "Total Loss tf.Tensor(51.87639, shape=(), dtype=float32)\n",
      "reconstruction_loss tf.Tensor(51.308243, shape=(), dtype=float32)\n",
      "clustering loss tf.Tensor(0.5681459, shape=(), dtype=float32)\n",
      "10/10 [==============================] - 1s 57ms/step\n",
      "Total Loss tf.Tensor(50.40429, shape=(), dtype=float32)\n",
      "reconstruction_loss tf.Tensor(49.76601, shape=(), dtype=float32)\n",
      "clustering loss tf.Tensor(0.63827777, shape=(), dtype=float32)\n",
      "10/10 [==============================] - 1s 58ms/step\n",
      "Total Loss tf.Tensor(51.289707, shape=(), dtype=float32)\n",
      "reconstruction_loss tf.Tensor(50.60299, shape=(), dtype=float32)\n",
      "clustering loss tf.Tensor(0.68671846, shape=(), dtype=float32)\n",
      "10/10 [==============================] - 1s 60ms/step\n",
      "Total Loss tf.Tensor(50.37777, shape=(), dtype=float32)\n",
      "reconstruction_loss tf.Tensor(49.635765, shape=(), dtype=float32)\n",
      "clustering loss tf.Tensor(0.7420056, shape=(), dtype=float32)\n",
      "10/10 [==============================] - 1s 61ms/step\n",
      "Total Loss tf.Tensor(50.300915, shape=(), dtype=float32)\n",
      "reconstruction_loss tf.Tensor(49.506046, shape=(), dtype=float32)\n",
      "clustering loss tf.Tensor(0.7948667, shape=(), dtype=float32)\n",
      "10/10 [==============================] - 1s 58ms/step\n",
      "Total Loss tf.Tensor(50.279778, shape=(), dtype=float32)\n",
      "reconstruction_loss tf.Tensor(49.43908, shape=(), dtype=float32)\n",
      "clustering loss tf.Tensor(0.8406975, shape=(), dtype=float32)\n",
      "10/10 [==============================] - 1s 61ms/step\n",
      "Total Loss tf.Tensor(50.24251, shape=(), dtype=float32)\n",
      "reconstruction_loss tf.Tensor(49.352486, shape=(), dtype=float32)\n",
      "clustering loss tf.Tensor(0.8900268, shape=(), dtype=float32)\n",
      "10/10 [==============================] - 1s 58ms/step\n",
      "Total Loss tf.Tensor(50.231216, shape=(), dtype=float32)\n",
      "reconstruction_loss tf.Tensor(49.280304, shape=(), dtype=float32)\n",
      "clustering loss tf.Tensor(0.9509142, shape=(), dtype=float32)\n",
      "10/10 [==============================] - 1s 58ms/step\n",
      "Total Loss tf.Tensor(50.140545, shape=(), dtype=float32)\n",
      "reconstruction_loss tf.Tensor(49.11844, shape=(), dtype=float32)\n",
      "clustering loss tf.Tensor(1.0221045, shape=(), dtype=float32)\n"
     ]
    }
   ],
   "source": [
    "# Fit model\n",
    "dtc.fit(reshaped_array, y_train=None, X_val=None, y_val=None)"
   ]
  },
  {
   "cell_type": "code",
   "execution_count": 35,
   "id": "3e4fab1b",
   "metadata": {
    "execution": {
     "iopub.execute_input": "2024-09-24T07:08:59.045355Z",
     "iopub.status.busy": "2024-09-24T07:08:59.044907Z",
     "iopub.status.idle": "2024-09-24T07:08:59.721089Z",
     "shell.execute_reply": "2024-09-24T07:08:59.720119Z"
    },
    "papermill": {
     "duration": 0.80782,
     "end_time": "2024-09-24T07:08:59.723567",
     "exception": false,
     "start_time": "2024-09-24T07:08:58.915747",
     "status": "completed"
    },
    "tags": []
   },
   "outputs": [
    {
     "name": "stdout",
     "output_type": "stream",
     "text": [
      "Performance (TRAIN)\n",
      "10/10 [==============================] - 1s 59ms/step\n"
     ]
    }
   ],
   "source": [
    "# Evaluate\n",
    "print('Performance (TRAIN)')\n",
    "results = {}\n",
    "q = dtc.model.predict(reshaped_array)[1]\n",
    "y_pred = q.argmax(axis=1)"
   ]
  },
  {
   "cell_type": "code",
   "execution_count": 36,
   "id": "eee89e29",
   "metadata": {
    "execution": {
     "iopub.execute_input": "2024-09-24T07:08:59.982463Z",
     "iopub.status.busy": "2024-09-24T07:08:59.981982Z",
     "iopub.status.idle": "2024-09-24T07:08:59.990128Z",
     "shell.execute_reply": "2024-09-24T07:08:59.989071Z"
    },
    "papermill": {
     "duration": 0.141097,
     "end_time": "2024-09-24T07:08:59.992534",
     "exception": false,
     "start_time": "2024-09-24T07:08:59.851437",
     "status": "completed"
    },
    "tags": []
   },
   "outputs": [
    {
     "data": {
      "text/plain": [
       "array([1, 1, 1, 1, 1, 0, 1, 0, 1, 1, 1, 1, 1, 1, 1, 0, 1, 1, 1, 1, 0, 1,\n",
       "       1, 1, 1, 1, 1, 1, 1, 1, 1, 1, 1, 1, 1, 1, 1, 1, 1, 1, 1, 1, 1, 1,\n",
       "       0, 1, 0, 1, 1, 1, 1, 1, 1, 1, 1, 0, 1, 1, 1, 1, 0, 1, 1, 1, 0, 1,\n",
       "       1, 0, 1, 1, 1, 0, 0, 0, 1, 1, 1, 1, 1, 1, 0, 0, 1, 1, 1, 1, 1, 1,\n",
       "       0, 1, 1, 1, 1, 1, 1, 1, 1, 1, 1, 1, 1, 1, 1, 1, 1, 1, 1, 1, 1, 1,\n",
       "       1, 1, 1, 1, 1, 1, 1, 1, 1, 1, 1, 1, 1, 1, 1, 1, 0, 1, 1, 1, 1, 1,\n",
       "       1, 1, 0, 1, 1, 1, 1, 1, 1, 1, 1, 1, 1, 1, 1, 1, 1, 1, 1, 1, 1, 0,\n",
       "       1, 1, 1, 1, 1, 1, 1, 1, 1, 1, 1, 1, 1, 1, 1, 1, 1, 0, 0, 1, 1, 1,\n",
       "       1, 1, 1, 1, 1, 1, 1, 1, 0, 1, 1, 1, 0, 1, 1, 1, 1, 1, 1, 1, 1, 1,\n",
       "       1, 1, 1, 1, 1, 1, 1, 1, 1, 1, 1, 1, 1, 1, 1, 1, 1, 1, 1, 1, 1, 1,\n",
       "       1, 1, 1, 1, 1, 1, 0, 0, 1, 1, 1, 1, 1, 1, 1, 1, 1, 1, 0, 1, 1, 1,\n",
       "       0, 1, 1, 1, 1, 1, 0, 0, 0, 0, 0, 1, 1, 1, 1, 1, 1, 1, 1, 1, 1, 0,\n",
       "       1, 0, 0, 0, 0, 0, 0, 0, 0, 0, 0, 0, 0, 0, 0, 0, 0, 0, 1, 1, 1, 1,\n",
       "       1, 1, 1, 1, 0, 1, 1, 1, 1, 1, 0, 1, 1, 1, 1, 1, 0, 0, 1, 1, 1, 1,\n",
       "       0, 1, 1, 0])"
      ]
     },
     "execution_count": 36,
     "metadata": {},
     "output_type": "execute_result"
    }
   ],
   "source": [
    "y_pred"
   ]
  },
  {
   "cell_type": "code",
   "execution_count": 37,
   "id": "a9276172",
   "metadata": {
    "execution": {
     "iopub.execute_input": "2024-09-24T07:09:00.255082Z",
     "iopub.status.busy": "2024-09-24T07:09:00.254636Z",
     "iopub.status.idle": "2024-09-24T07:09:00.260490Z",
     "shell.execute_reply": "2024-09-24T07:09:00.259473Z"
    },
    "papermill": {
     "duration": 0.141053,
     "end_time": "2024-09-24T07:09:00.262645",
     "exception": false,
     "start_time": "2024-09-24T07:09:00.121592",
     "status": "completed"
    },
    "tags": []
   },
   "outputs": [],
   "source": [
    "np.save(dataset_name +'_Labels.npy', y_pred) # save"
   ]
  },
  {
   "cell_type": "code",
   "execution_count": 38,
   "id": "6537e0a1",
   "metadata": {
    "execution": {
     "iopub.execute_input": "2024-09-24T07:09:00.522497Z",
     "iopub.status.busy": "2024-09-24T07:09:00.521508Z",
     "iopub.status.idle": "2024-09-24T07:09:00.528727Z",
     "shell.execute_reply": "2024-09-24T07:09:00.527739Z"
    },
    "papermill": {
     "duration": 0.139193,
     "end_time": "2024-09-24T07:09:00.530949",
     "exception": false,
     "start_time": "2024-09-24T07:09:00.391756",
     "status": "completed"
    },
    "tags": []
   },
   "outputs": [
    {
     "data": {
      "text/plain": [
       "(array([0, 1]), array([ 56, 256]))"
      ]
     },
     "execution_count": 38,
     "metadata": {},
     "output_type": "execute_result"
    }
   ],
   "source": [
    "np.unique(y_pred, return_counts=True)"
   ]
  },
  {
   "cell_type": "code",
   "execution_count": null,
   "id": "84d0e413",
   "metadata": {
    "papermill": {
     "duration": 0.127293,
     "end_time": "2024-09-24T07:09:00.787457",
     "exception": false,
     "start_time": "2024-09-24T07:09:00.660164",
     "status": "completed"
    },
    "tags": []
   },
   "outputs": [],
   "source": []
  },
  {
   "cell_type": "code",
   "execution_count": null,
   "id": "62465cee",
   "metadata": {
    "papermill": {
     "duration": 0.127722,
     "end_time": "2024-09-24T07:09:01.044118",
     "exception": false,
     "start_time": "2024-09-24T07:09:00.916396",
     "status": "completed"
    },
    "tags": []
   },
   "outputs": [],
   "source": []
  }
 ],
 "metadata": {
  "kaggle": {
   "accelerator": "none",
   "dataSources": [
    {
     "datasetId": 3743351,
     "sourceId": 6479400,
     "sourceType": "datasetVersion"
    },
    {
     "datasetId": 3792584,
     "sourceId": 6564428,
     "sourceType": "datasetVersion"
    },
    {
     "datasetId": 4520850,
     "sourceId": 7735771,
     "sourceType": "datasetVersion"
    },
    {
     "datasetId": 4624107,
     "sourceId": 7889633,
     "sourceType": "datasetVersion"
    },
    {
     "datasetId": 4454423,
     "sourceId": 9326749,
     "sourceType": "datasetVersion"
    },
    {
     "sourceId": 146550165,
     "sourceType": "kernelVersion"
    },
    {
     "sourceId": 146550185,
     "sourceType": "kernelVersion"
    },
    {
     "sourceId": 166856298,
     "sourceType": "kernelVersion"
    }
   ],
   "dockerImageVersionId": 30558,
   "isGpuEnabled": false,
   "isInternetEnabled": true,
   "language": "python",
   "sourceType": "notebook"
  },
  "kernelspec": {
   "display_name": "Python 3",
   "language": "python",
   "name": "python3"
  },
  "language_info": {
   "codemirror_mode": {
    "name": "ipython",
    "version": 3
   },
   "file_extension": ".py",
   "mimetype": "text/x-python",
   "name": "python",
   "nbconvert_exporter": "python",
   "pygments_lexer": "ipython3",
   "version": "3.10.12"
  },
  "papermill": {
   "default_parameters": {},
   "duration": 326.067749,
   "end_time": "2024-09-24T07:09:03.557111",
   "environment_variables": {},
   "exception": null,
   "input_path": "__notebook__.ipynb",
   "output_path": "__notebook__.ipynb",
   "parameters": {},
   "start_time": "2024-09-24T07:03:37.489362",
   "version": "2.4.0"
  }
 },
 "nbformat": 4,
 "nbformat_minor": 5
}
